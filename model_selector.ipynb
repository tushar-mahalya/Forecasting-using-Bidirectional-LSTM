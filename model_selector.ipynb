{
 "cells": [
  {
   "cell_type": "markdown",
   "metadata": {},
   "source": [
    "[![Open In Studio Lab](https://studiolab.sagemaker.aws/studiolab.svg)](https://studiolab.sagemaker.aws/import/github/tushar-mahalya/Forecasting-using-Bidirectional-LSTM/blob/master/model_selector.ipynb)"
   ]
  },
  {
   "cell_type": "code",
   "execution_count": 24,
   "metadata": {
    "id": "wRbQKHs-wCqS"
   },
   "outputs": [],
   "source": [
    "# Importing important pakages\n",
    "import os\n",
    "import json\n",
    "import numpy as np\n",
    "import pandas as pd\n",
    "from collections import OrderedDict\n",
    "from termcolor import colored as color\n",
    "\n",
    "# Importing TF.keras packages\n",
    "from keras.models import Sequential\n",
    "from keras.optimizers import RMSprop\n",
    "from keras.layers import Dense, LSTM, Dropout, Bidirectional\n",
    "\n",
    "# To avoid irrelevent warning messages\n",
    "os.environ['TF_CPP_MIN_LOG_LEVEL'] = '3'"
   ]
  },
  {
   "cell_type": "code",
   "execution_count": 25,
   "metadata": {
    "id": "ej1tIDl5y_Y2",
    "tags": []
   },
   "outputs": [],
   "source": [
    "# Yahoo Finance API\n",
    "import yfinance\n",
    "\n",
    "# Function to download stock data (univariate or multivariate)\n",
    "from Data_Downloader import data_accumilator"
   ]
  },
  {
   "cell_type": "code",
   "execution_count": 26,
   "metadata": {
    "id": "pgBR7cRdHgsf"
   },
   "outputs": [
    {
     "data": {
      "text/plain": [
       "[('Fixed', <function Models.simple_model(X, y, learn_rate)>),\n",
       " ('Dynamic', <function Models.dynamic_model(X, y, learn_rate)>),\n",
       " ('Bidirectional', <function Models.bidirectional_model(X, y, learn_rate)>),\n",
       " ('Stacked', <function Models.stacked_model(X, y, learn_rate)>)]"
      ]
     },
     "execution_count": 26,
     "metadata": {},
     "output_type": "execute_result"
    }
   ],
   "source": [
    "# Importing custom defined models into local runtime\n",
    "from Models import models\n",
    "my_models = models()\n",
    "my_models"
   ]
  },
  {
   "cell_type": "code",
   "execution_count": 27,
   "metadata": {
    "id": "zauXK0MrzGum"
   },
   "outputs": [
    {
     "data": {
      "text/html": [
       "<div>\n",
       "<style scoped>\n",
       "    .dataframe tbody tr th:only-of-type {\n",
       "        vertical-align: middle;\n",
       "    }\n",
       "\n",
       "    .dataframe tbody tr th {\n",
       "        vertical-align: top;\n",
       "    }\n",
       "\n",
       "    .dataframe thead th {\n",
       "        text-align: right;\n",
       "    }\n",
       "</style>\n",
       "<table border=\"1\" class=\"dataframe\">\n",
       "  <thead>\n",
       "    <tr style=\"text-align: right;\">\n",
       "      <th></th>\n",
       "      <th>Company Name</th>\n",
       "      <th>Industry</th>\n",
       "      <th>Symbol</th>\n",
       "      <th>Series</th>\n",
       "      <th>ISIN Code</th>\n",
       "    </tr>\n",
       "  </thead>\n",
       "  <tbody>\n",
       "    <tr>\n",
       "      <th>0</th>\n",
       "      <td>Adani Enterprises Ltd.</td>\n",
       "      <td>Metals &amp; Mining</td>\n",
       "      <td>ADANIENT</td>\n",
       "      <td>EQ</td>\n",
       "      <td>INE423A01024</td>\n",
       "    </tr>\n",
       "    <tr>\n",
       "      <th>1</th>\n",
       "      <td>Adani Ports and Special Economic Zone Ltd.</td>\n",
       "      <td>Services</td>\n",
       "      <td>ADANIPORTS</td>\n",
       "      <td>EQ</td>\n",
       "      <td>INE742F01042</td>\n",
       "    </tr>\n",
       "    <tr>\n",
       "      <th>2</th>\n",
       "      <td>Apollo Hospitals Enterprise Ltd.</td>\n",
       "      <td>Healthcare</td>\n",
       "      <td>APOLLOHOSP</td>\n",
       "      <td>EQ</td>\n",
       "      <td>INE437A01024</td>\n",
       "    </tr>\n",
       "    <tr>\n",
       "      <th>3</th>\n",
       "      <td>Asian Paints Ltd.</td>\n",
       "      <td>Consumer Durables</td>\n",
       "      <td>ASIANPAINT</td>\n",
       "      <td>EQ</td>\n",
       "      <td>INE021A01026</td>\n",
       "    </tr>\n",
       "    <tr>\n",
       "      <th>4</th>\n",
       "      <td>Axis Bank Ltd.</td>\n",
       "      <td>Financial Services</td>\n",
       "      <td>AXISBANK</td>\n",
       "      <td>EQ</td>\n",
       "      <td>INE238A01034</td>\n",
       "    </tr>\n",
       "  </tbody>\n",
       "</table>\n",
       "</div>"
      ],
      "text/plain": [
       "                                 Company Name            Industry      Symbol  \\\n",
       "0                      Adani Enterprises Ltd.     Metals & Mining    ADANIENT   \n",
       "1  Adani Ports and Special Economic Zone Ltd.            Services  ADANIPORTS   \n",
       "2            Apollo Hospitals Enterprise Ltd.          Healthcare  APOLLOHOSP   \n",
       "3                           Asian Paints Ltd.   Consumer Durables  ASIANPAINT   \n",
       "4                              Axis Bank Ltd.  Financial Services    AXISBANK   \n",
       "\n",
       "  Series     ISIN Code  \n",
       "0     EQ  INE423A01024  \n",
       "1     EQ  INE742F01042  \n",
       "2     EQ  INE437A01024  \n",
       "3     EQ  INE021A01026  \n",
       "4     EQ  INE238A01034  "
      ]
     },
     "execution_count": 27,
     "metadata": {},
     "output_type": "execute_result"
    }
   ],
   "source": [
    "# Nifty50 stocks indormation\n",
    "nifty50 = pd.read_csv('nifty50.csv')\n",
    "nifty50.head()"
   ]
  },
  {
   "cell_type": "code",
   "execution_count": 31,
   "metadata": {
    "colab": {
     "base_uri": "https://localhost:8080/"
    },
    "id": "SgZ5wXd0zGq5",
    "outputId": "44f2ee60-16e8-44a9-b3f5-a85071b92fb8"
   },
   "outputs": [
    {
     "name": "stdout",
     "output_type": "stream",
     "text": [
      "Directory named \"Stocks Data\" with required data is downloaded successfully at \"/home/studio-lab-user/sagemaker-studiolab-notebooks/Forecasting-using-Bidirectional-LSTM\"\n"
     ]
    }
   ],
   "source": [
    "# Get the current working directory (cwd)\n",
    "cwd = os.getcwd()\n",
    "\n",
    "# Downloading Nifty50 stocks data in Current working directory\n",
    "preprocessed_data = data_accumilator(cwd, nifty50['Symbol'])"
   ]
  },
  {
   "cell_type": "code",
   "execution_count": 36,
   "metadata": {
    "colab": {
     "base_uri": "https://localhost:8080/"
    },
    "id": "axN0pSWuQxbb",
    "outputId": "029e9aaf-3a82-44e5-9177-f3aea0abb433"
   },
   "outputs": [
    {
     "data": {
      "text/plain": [
       "{'ADANIENT': '/home/studio-lab-user/sagemaker-studiolab-notebooks/Forecasting-using-Bidirectional-LSTM/Stocks Data/ADANIENT/Normalized_ADANIENT.csv',\n",
       " 'ADANIPORTS': '/home/studio-lab-user/sagemaker-studiolab-notebooks/Forecasting-using-Bidirectional-LSTM/Stocks Data/ADANIPORTS/Normalized_ADANIPORTS.csv',\n",
       " 'APOLLOHOSP': '/home/studio-lab-user/sagemaker-studiolab-notebooks/Forecasting-using-Bidirectional-LSTM/Stocks Data/APOLLOHOSP/Normalized_APOLLOHOSP.csv',\n",
       " 'ASIANPAINT': '/home/studio-lab-user/sagemaker-studiolab-notebooks/Forecasting-using-Bidirectional-LSTM/Stocks Data/ASIANPAINT/Normalized_ASIANPAINT.csv',\n",
       " 'AXISBANK': '/home/studio-lab-user/sagemaker-studiolab-notebooks/Forecasting-using-Bidirectional-LSTM/Stocks Data/AXISBANK/Normalized_AXISBANK.csv'}"
      ]
     },
     "execution_count": 36,
     "metadata": {},
     "output_type": "execute_result"
    }
   ],
   "source": [
    "# Dictionary with stock ticker(key) and location of \n",
    "# normalized data of that stock (value)\n",
    "dict(list(preprocessed_data.items())[:5])  # First 5 elements0"
   ]
  },
  {
   "cell_type": "code",
   "execution_count": 33,
   "metadata": {
    "id": "FOYjN5sqPZQ1"
   },
   "outputs": [],
   "source": [
    "# Importing data initializing function\n",
    "from Data_Initializer import train_test_data"
   ]
  },
  {
   "cell_type": "code",
   "execution_count": 35,
   "metadata": {},
   "outputs": [],
   "source": [
    "def test_models(data_dict, epochs: int, models: dict, window_sizes: list, multi_seq:bool = False):\n",
    "    #test result data\n",
    "    parameter_dict = OrderedDict()\n",
    "    for ticker in data_dict.keys():\n",
    "        \n",
    "        win_size = {}\n",
    "        print(color(f'\\n================================ NSE : {ticker} ================================', 'red', attrs = [\"bold\"]))\n",
    "        for window_size in window_sizes:\n",
    "            \n",
    "            model_name = {}\n",
    "            print(color(f\"\\nWindow size: {window_size}\", 'cyan'))\n",
    "            print(color('----------------', 'yellow'))\n",
    "            for model_item in models:\n",
    "                \n",
    "                data = pd.read_csv(data_dict[ticker])\n",
    "                X_train,y_train,X_test,y_test = train_test_data(data, split_size = 0.2, window_size = window_size, multi_seq = multi_seq)\n",
    "                model = model_item[1](X_train,y_train,0.001)\n",
    "                \n",
    "                # fitting model\n",
    "                model.fit(X_train, y_train, epochs=epochs, batch_size=50, verbose=0)\n",
    "\n",
    "                # printing training and testing errors\n",
    "                training_error = model.evaluate(X_train, y_train, verbose=0)\n",
    "                testing_error = model.evaluate(X_test, y_test, verbose=0)\n",
    "                msg = color(\"  >\",'green') + \" Model: {0:<15} Param count: {1:} \\tTraining error: {2:.4f}\\tTesting error: {3:.4f}\"\n",
    "                print(msg.format(model_item[0],model.count_params(),training_error,testing_error))\n",
    "                \n",
    "                model_name[model_item[0]] = {\n",
    "                                             'Param Count' : model.count_params(),\n",
    "                                             'Training Error' : float(\"{0:.4f}\".format(training_error)),\n",
    "                                             'Testing Error' : float(\"{0:.4f}\".format( testing_error))\n",
    "                                            }\n",
    "            \n",
    "            win_size[f'Window_Size_{window_size}'] = model_name\n",
    "        \n",
    "        parameter_dict[ticker] = win_size\n",
    "        \n",
    "    # Exporting performance of different models in .json format\n",
    "    os.mkdir('Performance Parameters')\n",
    "    if multi_seq:\n",
    "        with open(\"Performance Parameters/multivariate.json\", \"w\") as f:\n",
    "            json.dump(parameter_dict, f)\n",
    "            f.close()\n",
    "    else:\n",
    "        with open(\"Performance Parameters/univariate.json\", \"w\") as f:\n",
    "            json.dump(parameter_dict, f)\n",
    "            f.close()\n",
    "            \n",
    "    print(color('\\nSuccesfully Evaluated different models and saved the performance metrics in \\'Performance Parameters\\' directory.', 'magenta'))\n",
    "        \n",
    "    return parameter_dict"
   ]
  },
  {
   "cell_type": "code",
   "execution_count": 38,
   "metadata": {
    "colab": {
     "base_uri": "https://localhost:8080/"
    },
    "id": "Kf6B1fDo3-8E",
    "outputId": "01b23fad-4426-4ffa-acfa-6edd0291c895"
   },
   "outputs": [
    {
     "name": "stdout",
     "output_type": "stream",
     "text": [
      "\u001b[1m\u001b[31m\n",
      "================================ NSE : ADANIENT ================================\u001b[0m\n",
      "\u001b[36m\n",
      "Window size: 7\u001b[0m\n",
      "\u001b[33m----------------\u001b[0m\n",
      "\u001b[32m  >\u001b[0m Model: Fixed           Param count: 186 \tTraining error: 0.0008\tTesting error: 0.1474\n",
      "\u001b[32m  >\u001b[0m Model: Dynamic         Param count: 316 \tTraining error: 0.0008\tTesting error: 0.1581\n",
      "\u001b[32m  >\u001b[0m Model: Bidirectional   Param count: 729 \tTraining error: 0.0008\tTesting error: 0.1339\n",
      "\u001b[32m  >\u001b[0m Model: Stacked         Param count: 886 \tTraining error: 0.0009\tTesting error: 0.1679\n",
      "\u001b[36m\n",
      "Window size: 10\u001b[0m\n",
      "\u001b[33m----------------\u001b[0m\n",
      "\u001b[32m  >\u001b[0m Model: Fixed           Param count: 186 \tTraining error: 0.0007\tTesting error: 0.1111\n",
      "\u001b[32m  >\u001b[0m Model: Dynamic         Param count: 571 \tTraining error: 0.0008\tTesting error: 0.1416\n",
      "\u001b[32m  >\u001b[0m Model: Bidirectional   Param count: 1341 \tTraining error: 0.0006\tTesting error: 0.0596\n",
      "\u001b[32m  >\u001b[0m Model: Stacked         Param count: 886 \tTraining error: 0.0011\tTesting error: 0.1572\n",
      "\u001b[35mSuccesfully Evaluated different models and saved the performance metrics in 'Performance Parameters' directory.\u001b[0m\n",
      "\u001b[1m\u001b[31m\n",
      "================================ NSE : ADANIPORTS ================================\u001b[0m\n",
      "\u001b[36m\n",
      "Window size: 7\u001b[0m\n",
      "\u001b[33m----------------\u001b[0m\n",
      "\u001b[32m  >\u001b[0m Model: Fixed           Param count: 186 \tTraining error: 0.0052\tTesting error: 0.0224\n",
      "\u001b[32m  >\u001b[0m Model: Dynamic         Param count: 316 \tTraining error: 0.0051\tTesting error: 0.0213\n",
      "\u001b[32m  >\u001b[0m Model: Bidirectional   Param count: 729 \tTraining error: 0.0050\tTesting error: 0.0228\n",
      "\u001b[32m  >\u001b[0m Model: Stacked         Param count: 886 \tTraining error: 0.0051\tTesting error: 0.0199\n",
      "\u001b[36m\n",
      "Window size: 10\u001b[0m\n",
      "\u001b[33m----------------\u001b[0m\n",
      "\u001b[32m  >\u001b[0m Model: Fixed           Param count: 186 \tTraining error: 0.0051\tTesting error: 0.0319\n",
      "\u001b[32m  >\u001b[0m Model: Dynamic         Param count: 571 \tTraining error: 0.0051\tTesting error: 0.0175\n",
      "\u001b[32m  >\u001b[0m Model: Bidirectional   Param count: 1341 \tTraining error: 0.0052\tTesting error: 0.0217\n",
      "\u001b[32m  >\u001b[0m Model: Stacked         Param count: 886 \tTraining error: 0.0054\tTesting error: 0.0238\n"
     ]
    },
    {
     "ename": "FileExistsError",
     "evalue": "[Errno 17] File exists: 'Performance Parameters'",
     "output_type": "error",
     "traceback": [
      "\u001b[0;31m---------------------------------------------------------------------------\u001b[0m",
      "\u001b[0;31mFileExistsError\u001b[0m                           Traceback (most recent call last)",
      "Cell \u001b[0;32mIn[38], line 1\u001b[0m\n\u001b[0;32m----> 1\u001b[0m res \u001b[38;5;241m=\u001b[39m \u001b[43mtest_models\u001b[49m\u001b[43m(\u001b[49m\u001b[38;5;28;43mdict\u001b[39;49m\u001b[43m(\u001b[49m\u001b[38;5;28;43mlist\u001b[39;49m\u001b[43m(\u001b[49m\u001b[43mpreprocessed_data\u001b[49m\u001b[38;5;241;43m.\u001b[39;49m\u001b[43mitems\u001b[49m\u001b[43m(\u001b[49m\u001b[43m)\u001b[49m\u001b[43m)\u001b[49m\u001b[43m[\u001b[49m\u001b[43m:\u001b[49m\u001b[38;5;241;43m2\u001b[39;49m\u001b[43m]\u001b[49m\u001b[43m)\u001b[49m\u001b[43m \u001b[49m\u001b[43m,\u001b[49m\u001b[43m \u001b[49m\u001b[38;5;241;43m100\u001b[39;49m\u001b[43m,\u001b[49m\u001b[43m \u001b[49m\u001b[43mmy_models\u001b[49m\u001b[43m,\u001b[49m\u001b[43m \u001b[49m\u001b[43mwindow_sizes\u001b[49m\u001b[38;5;241;43m=\u001b[39;49m\u001b[43m[\u001b[49m\u001b[38;5;241;43m7\u001b[39;49m\u001b[43m,\u001b[49m\u001b[38;5;241;43m10\u001b[39;49m\u001b[43m]\u001b[49m\u001b[43m,\u001b[49m\u001b[43m \u001b[49m\u001b[43mmulti_seq\u001b[49m\u001b[38;5;241;43m=\u001b[39;49m\u001b[38;5;28;43;01mTrue\u001b[39;49;00m\u001b[43m)\u001b[49m\n",
      "Cell \u001b[0;32mIn[35], line 39\u001b[0m, in \u001b[0;36mtest_models\u001b[0;34m(data_dict, epochs, models, window_sizes, multi_seq)\u001b[0m\n\u001b[1;32m     36\u001b[0m parameter_dict[ticker] \u001b[38;5;241m=\u001b[39m win_size\n\u001b[1;32m     38\u001b[0m \u001b[38;5;66;03m# Exporting performance of different models in .json format\u001b[39;00m\n\u001b[0;32m---> 39\u001b[0m \u001b[43mos\u001b[49m\u001b[38;5;241;43m.\u001b[39;49m\u001b[43mmkdir\u001b[49m\u001b[43m(\u001b[49m\u001b[38;5;124;43m'\u001b[39;49m\u001b[38;5;124;43mPerformance Parameters\u001b[39;49m\u001b[38;5;124;43m'\u001b[39;49m\u001b[43m)\u001b[49m\n\u001b[1;32m     40\u001b[0m \u001b[38;5;28;01mif\u001b[39;00m multi_seq:\n\u001b[1;32m     41\u001b[0m     \u001b[38;5;28;01mwith\u001b[39;00m \u001b[38;5;28mopen\u001b[39m(\u001b[38;5;124m\"\u001b[39m\u001b[38;5;124mPerformance Parameters/multivariate.json\u001b[39m\u001b[38;5;124m\"\u001b[39m, \u001b[38;5;124m\"\u001b[39m\u001b[38;5;124mw\u001b[39m\u001b[38;5;124m\"\u001b[39m) \u001b[38;5;28;01mas\u001b[39;00m f:\n",
      "\u001b[0;31mFileExistsError\u001b[0m: [Errno 17] File exists: 'Performance Parameters'"
     ]
    }
   ],
   "source": [
    "res = test_models(dict(list(preprocessed_data.items())[:2]) , 100, my_models, window_sizes=[7,10], multi_seq=True)"
   ]
  },
  {
   "cell_type": "code",
   "execution_count": 33,
   "metadata": {},
   "outputs": [
    {
     "data": {
      "text/plain": [
       "{'Fixed': (186, 0.002, 0.0622),\n",
       " 'Dynamic': (571, 0.0017, 0.0338),\n",
       " 'Bidirectional': (1341, 0.0016, 0.0246),\n",
       " 'Stacked': (886, 0.002, 0.0643)}"
      ]
     },
     "execution_count": 33,
     "metadata": {},
     "output_type": "execute_result"
    }
   ],
   "source": [
    "res['ITC']['Window_Size_10']"
   ]
  },
  {
   "cell_type": "code",
   "execution_count": 22,
   "metadata": {},
   "outputs": [
    {
     "name": "stdout",
     "output_type": "stream",
     "text": [
      "Data is already present in the source location.\n"
     ]
    }
   ],
   "source": [
    "if os.path.exists(cwd+ \"/Stocks Data\"):\n",
    "    print(\"Data is already present in the source location.\")\n",
    "else:\n",
    "    print(\"Chal BSdk\")"
   ]
  },
  {
   "cell_type": "code",
   "execution_count": 20,
   "metadata": {},
   "outputs": [
    {
     "data": {
      "text/plain": [
       "'/home/studio-lab-user/sagemaker-studiolab-notebooks/Forecasting-using-Bidirectional-LSTM'"
      ]
     },
     "execution_count": 20,
     "metadata": {},
     "output_type": "execute_result"
    }
   ],
   "source": [
    "os.getcwd()"
   ]
  },
  {
   "cell_type": "code",
   "execution_count": null,
   "metadata": {
    "colab": {
     "base_uri": "https://localhost:8080/",
     "height": 331
    },
    "id": "aClScsRsEtSZ",
    "outputId": "e116ca48-101d-423f-a726-53633575b85c"
   },
   "outputs": [
    {
     "ename": "AttributeError",
     "evalue": "ignored",
     "output_type": "error",
     "traceback": [
      "\u001b[0;31m---------------------------------------------------------------------------\u001b[0m",
      "\u001b[0;31mAttributeError\u001b[0m                            Traceback (most recent call last)",
      "\u001b[0;32m<ipython-input-33-62049d2dbeb9>\u001b[0m in \u001b[0;36m<module>\u001b[0;34m\u001b[0m\n\u001b[0;32m----> 1\u001b[0;31m \u001b[0mpd\u001b[0m\u001b[0;34m.\u001b[0m\u001b[0mpivot_table\u001b[0m\u001b[0;34m(\u001b[0m\u001b[0mres\u001b[0m\u001b[0;34m,\u001b[0m \u001b[0mvalues\u001b[0m \u001b[0;34m=\u001b[0m \u001b[0;34m[\u001b[0m\u001b[0;34m'Training Error'\u001b[0m\u001b[0;34m,\u001b[0m \u001b[0;34m'Testing Error'\u001b[0m\u001b[0;34m]\u001b[0m\u001b[0;34m,\u001b[0m \u001b[0mindex\u001b[0m\u001b[0;34m=\u001b[0m\u001b[0;34m[\u001b[0m\u001b[0;34m'Window Size'\u001b[0m\u001b[0;34m]\u001b[0m\u001b[0;34m)\u001b[0m\u001b[0;34m\u001b[0m\u001b[0;34m\u001b[0m\u001b[0m\n\u001b[0m",
      "\u001b[0;32m/usr/local/lib/python3.8/dist-packages/pandas/core/reshape/pivot.py\u001b[0m in \u001b[0;36mpivot_table\u001b[0;34m(data, values, index, columns, aggfunc, fill_value, margins, dropna, margins_name, observed, sort)\u001b[0m\n\u001b[1;32m     93\u001b[0m         \u001b[0;32mreturn\u001b[0m \u001b[0mtable\u001b[0m\u001b[0;34m.\u001b[0m\u001b[0m__finalize__\u001b[0m\u001b[0;34m(\u001b[0m\u001b[0mdata\u001b[0m\u001b[0;34m,\u001b[0m \u001b[0mmethod\u001b[0m\u001b[0;34m=\u001b[0m\u001b[0;34m\"pivot_table\"\u001b[0m\u001b[0;34m)\u001b[0m\u001b[0;34m\u001b[0m\u001b[0;34m\u001b[0m\u001b[0m\n\u001b[1;32m     94\u001b[0m \u001b[0;34m\u001b[0m\u001b[0m\n\u001b[0;32m---> 95\u001b[0;31m     table = __internal_pivot_table(\n\u001b[0m\u001b[1;32m     96\u001b[0m         \u001b[0mdata\u001b[0m\u001b[0;34m,\u001b[0m\u001b[0;34m\u001b[0m\u001b[0;34m\u001b[0m\u001b[0m\n\u001b[1;32m     97\u001b[0m         \u001b[0mvalues\u001b[0m\u001b[0;34m,\u001b[0m\u001b[0;34m\u001b[0m\u001b[0;34m\u001b[0m\u001b[0m\n",
      "\u001b[0;32m/usr/local/lib/python3.8/dist-packages/pandas/core/reshape/pivot.py\u001b[0m in \u001b[0;36m__internal_pivot_table\u001b[0;34m(data, values, index, columns, aggfunc, fill_value, margins, dropna, margins_name, observed, sort)\u001b[0m\n\u001b[1;32m    150\u001b[0m             \u001b[0;32mexcept\u001b[0m \u001b[0mTypeError\u001b[0m\u001b[0;34m:\u001b[0m\u001b[0;34m\u001b[0m\u001b[0;34m\u001b[0m\u001b[0m\n\u001b[1;32m    151\u001b[0m                 \u001b[0;32mpass\u001b[0m\u001b[0;34m\u001b[0m\u001b[0;34m\u001b[0m\u001b[0m\n\u001b[0;32m--> 152\u001b[0;31m         \u001b[0;32mif\u001b[0m \u001b[0mlen\u001b[0m\u001b[0;34m(\u001b[0m\u001b[0mto_filter\u001b[0m\u001b[0;34m)\u001b[0m \u001b[0;34m<\u001b[0m \u001b[0mlen\u001b[0m\u001b[0;34m(\u001b[0m\u001b[0mdata\u001b[0m\u001b[0;34m.\u001b[0m\u001b[0mcolumns\u001b[0m\u001b[0;34m)\u001b[0m\u001b[0;34m:\u001b[0m\u001b[0;34m\u001b[0m\u001b[0;34m\u001b[0m\u001b[0m\n\u001b[0m\u001b[1;32m    153\u001b[0m             \u001b[0mdata\u001b[0m \u001b[0;34m=\u001b[0m \u001b[0mdata\u001b[0m\u001b[0;34m[\u001b[0m\u001b[0mto_filter\u001b[0m\u001b[0;34m]\u001b[0m\u001b[0;34m\u001b[0m\u001b[0;34m\u001b[0m\u001b[0m\n\u001b[1;32m    154\u001b[0m \u001b[0;34m\u001b[0m\u001b[0m\n",
      "\u001b[0;31mAttributeError\u001b[0m: 'collections.OrderedDict' object has no attribute 'columns'"
     ]
    }
   ],
   "source": [
    "pd.pivot_table(res, values = ['Training Error', 'Testing Error'], index=['Window Size'])"
   ]
  },
  {
   "cell_type": "code",
   "execution_count": null,
   "metadata": {
    "colab": {
     "base_uri": "https://localhost:8080/"
    },
    "id": "ByK1FL9Q5Jjh",
    "outputId": "ce8d4bbe-674e-4b0e-c4d1-e1da2b3d1f38"
   },
   "outputs": [
    {
     "data": {
      "text/plain": [
       "['CIPLA',\n",
       " 'CIPLA',\n",
       " 'CIPLA',\n",
       " 'CIPLA',\n",
       " 'CIPLA',\n",
       " 'CIPLA',\n",
       " 'CIPLA',\n",
       " 'CIPLA',\n",
       " 'CIPLA',\n",
       " 'CIPLA',\n",
       " 'CIPLA',\n",
       " 'CIPLA',\n",
       " 'CIPLA',\n",
       " 'CIPLA',\n",
       " 'CIPLA',\n",
       " 'CIPLA',\n",
       " 'RELIANCE',\n",
       " 'RELIANCE',\n",
       " 'RELIANCE',\n",
       " 'RELIANCE',\n",
       " 'RELIANCE',\n",
       " 'RELIANCE',\n",
       " 'RELIANCE',\n",
       " 'RELIANCE',\n",
       " 'RELIANCE',\n",
       " 'RELIANCE',\n",
       " 'RELIANCE',\n",
       " 'RELIANCE',\n",
       " 'RELIANCE',\n",
       " 'RELIANCE',\n",
       " 'RELIANCE',\n",
       " 'RELIANCE',\n",
       " 'WIPRO',\n",
       " 'WIPRO',\n",
       " 'WIPRO',\n",
       " 'WIPRO',\n",
       " 'WIPRO',\n",
       " 'WIPRO',\n",
       " 'WIPRO',\n",
       " 'WIPRO',\n",
       " 'WIPRO',\n",
       " 'WIPRO',\n",
       " 'WIPRO',\n",
       " 'WIPRO',\n",
       " 'WIPRO',\n",
       " 'WIPRO',\n",
       " 'WIPRO',\n",
       " 'WIPRO',\n",
       " 'TATACONSUM',\n",
       " 'TATACONSUM',\n",
       " 'TATACONSUM',\n",
       " 'TATACONSUM',\n",
       " 'TATACONSUM',\n",
       " 'TATACONSUM',\n",
       " 'TATACONSUM',\n",
       " 'TATACONSUM',\n",
       " 'TATACONSUM',\n",
       " 'TATACONSUM',\n",
       " 'TATACONSUM',\n",
       " 'TATACONSUM',\n",
       " 'TATACONSUM',\n",
       " 'TATACONSUM',\n",
       " 'TATACONSUM',\n",
       " 'TATACONSUM',\n",
       " 'JSWSTEEL',\n",
       " 'JSWSTEEL',\n",
       " 'JSWSTEEL',\n",
       " 'JSWSTEEL',\n",
       " 'JSWSTEEL',\n",
       " 'JSWSTEEL',\n",
       " 'JSWSTEEL',\n",
       " 'JSWSTEEL',\n",
       " 'JSWSTEEL',\n",
       " 'JSWSTEEL',\n",
       " 'JSWSTEEL',\n",
       " 'JSWSTEEL',\n",
       " 'JSWSTEEL',\n",
       " 'JSWSTEEL',\n",
       " 'JSWSTEEL',\n",
       " 'JSWSTEEL']"
      ]
     },
     "execution_count": 31,
     "metadata": {},
     "output_type": "execute_result"
    }
   ],
   "source": [
    "res['Ticker']"
   ]
  },
  {
   "cell_type": "code",
   "execution_count": null,
   "metadata": {
    "id": "4fGIfuvPgpZz"
   },
   "outputs": [],
   "source": [
    "df = pd.read_csv('Normalized_UPL.csv')"
   ]
  },
  {
   "cell_type": "code",
   "execution_count": null,
   "metadata": {
    "colab": {
     "base_uri": "https://localhost:8080/",
     "height": 363
    },
    "id": "gMUFF6JHhjMm",
    "outputId": "8c3663e7-1585-4909-cd61-f4adaa25e8a4"
   },
   "outputs": [
    {
     "data": {
      "text/html": [
       "\n",
       "  <div id=\"df-b5cbd634-8ad2-48cc-b84e-3ec06a9081bb\">\n",
       "    <div class=\"colab-df-container\">\n",
       "      <div>\n",
       "<style scoped>\n",
       "    .dataframe tbody tr th:only-of-type {\n",
       "        vertical-align: middle;\n",
       "    }\n",
       "\n",
       "    .dataframe tbody tr th {\n",
       "        vertical-align: top;\n",
       "    }\n",
       "\n",
       "    .dataframe thead th {\n",
       "        text-align: right;\n",
       "    }\n",
       "</style>\n",
       "<table border=\"1\" class=\"dataframe\">\n",
       "  <thead>\n",
       "    <tr style=\"text-align: right;\">\n",
       "      <th></th>\n",
       "      <th>normal_close</th>\n",
       "      <th>normal_mfi</th>\n",
       "      <th>normal_returns</th>\n",
       "    </tr>\n",
       "  </thead>\n",
       "  <tbody>\n",
       "    <tr>\n",
       "      <th>0</th>\n",
       "      <td>-0.400130</td>\n",
       "      <td>0.956538</td>\n",
       "      <td>0.259899</td>\n",
       "    </tr>\n",
       "    <tr>\n",
       "      <th>1</th>\n",
       "      <td>-0.491737</td>\n",
       "      <td>0.764949</td>\n",
       "      <td>-0.311530</td>\n",
       "    </tr>\n",
       "    <tr>\n",
       "      <th>2</th>\n",
       "      <td>-0.381392</td>\n",
       "      <td>0.831014</td>\n",
       "      <td>0.548611</td>\n",
       "    </tr>\n",
       "    <tr>\n",
       "      <th>3</th>\n",
       "      <td>-0.453741</td>\n",
       "      <td>0.648581</td>\n",
       "      <td>-0.226466</td>\n",
       "    </tr>\n",
       "    <tr>\n",
       "      <th>4</th>\n",
       "      <td>-0.499545</td>\n",
       "      <td>0.461016</td>\n",
       "      <td>-0.118129</td>\n",
       "    </tr>\n",
       "    <tr>\n",
       "      <th>5</th>\n",
       "      <td>-0.524528</td>\n",
       "      <td>0.469399</td>\n",
       "      <td>-0.029688</td>\n",
       "    </tr>\n",
       "    <tr>\n",
       "      <th>6</th>\n",
       "      <td>-0.662720</td>\n",
       "      <td>0.320024</td>\n",
       "      <td>-0.540911</td>\n",
       "    </tr>\n",
       "    <tr>\n",
       "      <th>7</th>\n",
       "      <td>-0.495120</td>\n",
       "      <td>0.447252</td>\n",
       "      <td>0.827687</td>\n",
       "    </tr>\n",
       "    <tr>\n",
       "      <th>8</th>\n",
       "      <td>-0.537020</td>\n",
       "      <td>0.534004</td>\n",
       "      <td>-0.103735</td>\n",
       "    </tr>\n",
       "    <tr>\n",
       "      <th>9</th>\n",
       "      <td>-0.590111</td>\n",
       "      <td>0.455292</td>\n",
       "      <td>-0.156450</td>\n",
       "    </tr>\n",
       "  </tbody>\n",
       "</table>\n",
       "</div>\n",
       "      <button class=\"colab-df-convert\" onclick=\"convertToInteractive('df-b5cbd634-8ad2-48cc-b84e-3ec06a9081bb')\"\n",
       "              title=\"Convert this dataframe to an interactive table.\"\n",
       "              style=\"display:none;\">\n",
       "        \n",
       "  <svg xmlns=\"http://www.w3.org/2000/svg\" height=\"24px\"viewBox=\"0 0 24 24\"\n",
       "       width=\"24px\">\n",
       "    <path d=\"M0 0h24v24H0V0z\" fill=\"none\"/>\n",
       "    <path d=\"M18.56 5.44l.94 2.06.94-2.06 2.06-.94-2.06-.94-.94-2.06-.94 2.06-2.06.94zm-11 1L8.5 8.5l.94-2.06 2.06-.94-2.06-.94L8.5 2.5l-.94 2.06-2.06.94zm10 10l.94 2.06.94-2.06 2.06-.94-2.06-.94-.94-2.06-.94 2.06-2.06.94z\"/><path d=\"M17.41 7.96l-1.37-1.37c-.4-.4-.92-.59-1.43-.59-.52 0-1.04.2-1.43.59L10.3 9.45l-7.72 7.72c-.78.78-.78 2.05 0 2.83L4 21.41c.39.39.9.59 1.41.59.51 0 1.02-.2 1.41-.59l7.78-7.78 2.81-2.81c.8-.78.8-2.07 0-2.86zM5.41 20L4 18.59l7.72-7.72 1.47 1.35L5.41 20z\"/>\n",
       "  </svg>\n",
       "      </button>\n",
       "      \n",
       "  <style>\n",
       "    .colab-df-container {\n",
       "      display:flex;\n",
       "      flex-wrap:wrap;\n",
       "      gap: 12px;\n",
       "    }\n",
       "\n",
       "    .colab-df-convert {\n",
       "      background-color: #E8F0FE;\n",
       "      border: none;\n",
       "      border-radius: 50%;\n",
       "      cursor: pointer;\n",
       "      display: none;\n",
       "      fill: #1967D2;\n",
       "      height: 32px;\n",
       "      padding: 0 0 0 0;\n",
       "      width: 32px;\n",
       "    }\n",
       "\n",
       "    .colab-df-convert:hover {\n",
       "      background-color: #E2EBFA;\n",
       "      box-shadow: 0px 1px 2px rgba(60, 64, 67, 0.3), 0px 1px 3px 1px rgba(60, 64, 67, 0.15);\n",
       "      fill: #174EA6;\n",
       "    }\n",
       "\n",
       "    [theme=dark] .colab-df-convert {\n",
       "      background-color: #3B4455;\n",
       "      fill: #D2E3FC;\n",
       "    }\n",
       "\n",
       "    [theme=dark] .colab-df-convert:hover {\n",
       "      background-color: #434B5C;\n",
       "      box-shadow: 0px 1px 3px 1px rgba(0, 0, 0, 0.15);\n",
       "      filter: drop-shadow(0px 1px 2px rgba(0, 0, 0, 0.3));\n",
       "      fill: #FFFFFF;\n",
       "    }\n",
       "  </style>\n",
       "\n",
       "      <script>\n",
       "        const buttonEl =\n",
       "          document.querySelector('#df-b5cbd634-8ad2-48cc-b84e-3ec06a9081bb button.colab-df-convert');\n",
       "        buttonEl.style.display =\n",
       "          google.colab.kernel.accessAllowed ? 'block' : 'none';\n",
       "\n",
       "        async function convertToInteractive(key) {\n",
       "          const element = document.querySelector('#df-b5cbd634-8ad2-48cc-b84e-3ec06a9081bb');\n",
       "          const dataTable =\n",
       "            await google.colab.kernel.invokeFunction('convertToInteractive',\n",
       "                                                     [key], {});\n",
       "          if (!dataTable) return;\n",
       "\n",
       "          const docLinkHtml = 'Like what you see? Visit the ' +\n",
       "            '<a target=\"_blank\" href=https://colab.research.google.com/notebooks/data_table.ipynb>data table notebook</a>'\n",
       "            + ' to learn more about interactive tables.';\n",
       "          element.innerHTML = '';\n",
       "          dataTable['output_type'] = 'display_data';\n",
       "          await google.colab.output.renderOutput(dataTable, element);\n",
       "          const docLink = document.createElement('div');\n",
       "          docLink.innerHTML = docLinkHtml;\n",
       "          element.appendChild(docLink);\n",
       "        }\n",
       "      </script>\n",
       "    </div>\n",
       "  </div>\n",
       "  "
      ],
      "text/plain": [
       "   normal_close  normal_mfi  normal_returns\n",
       "0     -0.400130    0.956538        0.259899\n",
       "1     -0.491737    0.764949       -0.311530\n",
       "2     -0.381392    0.831014        0.548611\n",
       "3     -0.453741    0.648581       -0.226466\n",
       "4     -0.499545    0.461016       -0.118129\n",
       "5     -0.524528    0.469399       -0.029688\n",
       "6     -0.662720    0.320024       -0.540911\n",
       "7     -0.495120    0.447252        0.827687\n",
       "8     -0.537020    0.534004       -0.103735\n",
       "9     -0.590111    0.455292       -0.156450"
      ]
     },
     "execution_count": 15,
     "metadata": {},
     "output_type": "execute_result"
    }
   ],
   "source": [
    "df.head(10)"
   ]
  },
  {
   "cell_type": "code",
   "execution_count": null,
   "metadata": {
    "id": "DW824AxBg4m4"
   },
   "outputs": [],
   "source": [
    "m1,m2,m3,m4 = train_test_data(df, split_size = 0.3, window_size = 5, multi_seq = True)"
   ]
  },
  {
   "cell_type": "code",
   "execution_count": null,
   "metadata": {
    "colab": {
     "base_uri": "https://localhost:8080/"
    },
    "id": "FvG6ZLwI74O7",
    "outputId": "4d7d05f8-9b23-4ebd-9268-684b221f3c41"
   },
   "outputs": [
    {
     "data": {
      "text/plain": [
       "(5, 3)"
      ]
     },
     "execution_count": 17,
     "metadata": {},
     "output_type": "execute_result"
    }
   ],
   "source": [
    "m1.shape[1:]"
   ]
  },
  {
   "cell_type": "code",
   "execution_count": null,
   "metadata": {
    "colab": {
     "base_uri": "https://localhost:8080/"
    },
    "id": "d3Ba4_j6vagH",
    "outputId": "3077055e-f41a-4dd0-fd61-2d048b56fea5"
   },
   "outputs": [
    {
     "data": {
      "text/plain": [
       "array([[-0.49173709,  0.76494917, -0.31152977],\n",
       "       [-0.38139203,  0.83101408,  0.5486111 ],\n",
       "       [-0.45374124,  0.64858073, -0.22646629],\n",
       "       [-0.49954473,  0.46101643, -0.11812922],\n",
       "       [-0.52452807,  0.46939903, -0.02968832]])"
      ]
     },
     "execution_count": 18,
     "metadata": {},
     "output_type": "execute_result"
    }
   ],
   "source": [
    "m1[1]"
   ]
  },
  {
   "cell_type": "code",
   "execution_count": null,
   "metadata": {
    "colab": {
     "base_uri": "https://localhost:8080/"
    },
    "id": "cpKWPtrnhbk5",
    "outputId": "e866de3c-be7f-42e5-b2d5-367b6c82cc39"
   },
   "outputs": [
    {
     "data": {
      "text/plain": [
       "(334, 5, 3)"
      ]
     },
     "execution_count": 19,
     "metadata": {},
     "output_type": "execute_result"
    }
   ],
   "source": [
    "m1.shape"
   ]
  }
 ],
 "metadata": {
  "accelerator": "GPU",
  "colab": {
   "provenance": []
  },
  "gpuClass": "standard",
  "kernelspec": {
   "display_name": "ml_dl_310:Python",
   "language": "python",
   "name": "conda-env-ml_dl_310-py"
  },
  "language_info": {
   "codemirror_mode": {
    "name": "ipython",
    "version": 3
   },
   "file_extension": ".py",
   "mimetype": "text/x-python",
   "name": "python",
   "nbconvert_exporter": "python",
   "pygments_lexer": "ipython3",
   "version": "3.10.9"
  }
 },
 "nbformat": 4,
 "nbformat_minor": 4
}
