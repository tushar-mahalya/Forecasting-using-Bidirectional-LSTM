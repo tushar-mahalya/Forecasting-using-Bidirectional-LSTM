{
  "nbformat": 4,
  "nbformat_minor": 0,
  "metadata": {
    "colab": {
      "provenance": []
    },
    "kernelspec": {
      "name": "python3",
      "display_name": "Python 3"
    },
    "language_info": {
      "name": "python"
    },
    "accelerator": "GPU",
    "gpuClass": "standard"
  },
  "cells": [
    {
      "cell_type": "code",
      "source": [
        "%%capture\n",
        "! pip install yfinance\n",
        "from Data_Downloader import data_accumilator"
      ],
      "metadata": {
        "id": "ej1tIDl5y_Y2"
      },
      "execution_count": null,
      "outputs": []
    },
    {
      "cell_type": "code",
      "execution_count": null,
      "metadata": {
        "id": "wRbQKHs-wCqS"
      },
      "outputs": [],
      "source": [
        "import numpy as np\n",
        "import pandas as pd\n",
        "from collections import OrderedDict\n",
        "\n",
        "from keras.models import Sequential\n",
        "from keras.layers import Dense, LSTM, Dropout, Bidirectional\n",
        "from keras.optimizers import RMSprop"
      ]
    },
    {
      "cell_type": "code",
      "source": [
        "from Models import models"
      ],
      "metadata": {
        "id": "cWl9iTozwbqJ"
      },
      "execution_count": null,
      "outputs": []
    },
    {
      "cell_type": "code",
      "source": [
        "my_models = models()"
      ],
      "metadata": {
        "id": "pgBR7cRdHgsf"
      },
      "execution_count": null,
      "outputs": []
    },
    {
      "cell_type": "code",
      "source": [
        "my_models"
      ],
      "metadata": {
        "colab": {
          "base_uri": "https://localhost:8080/"
        },
        "id": "rEPqWfavaMwC",
        "outputId": "5f8211f6-95ad-4856-8e04-c0f87b0c0be4"
      },
      "execution_count": null,
      "outputs": [
        {
          "output_type": "execute_result",
          "data": {
            "text/plain": [
              "[('Fixed', <function Models.simple_model(X, y, learn_rate)>),\n",
              " ('Dynamic', <function Models.dynamic_model(X, y, learn_rate)>),\n",
              " ('Bidirectional', <function Models.bidirectional_model(X, y, learn_rate)>),\n",
              " ('Stacked', <function Models.stacked_model(X, y, learn_rate)>)]"
            ]
          },
          "metadata": {},
          "execution_count": 5
        }
      ]
    },
    {
      "cell_type": "code",
      "source": [
        "nifty50 = pd.read_csv('nifty50.csv')"
      ],
      "metadata": {
        "id": "zauXK0MrzGum"
      },
      "execution_count": null,
      "outputs": []
    },
    {
      "cell_type": "code",
      "source": [
        "nifty50.head()"
      ],
      "metadata": {
        "colab": {
          "base_uri": "https://localhost:8080/",
          "height": 206
        },
        "id": "qT7aWvIp7gpp",
        "outputId": "7b208022-aa01-4a8d-e16d-e4393eb980b0"
      },
      "execution_count": null,
      "outputs": [
        {
          "output_type": "execute_result",
          "data": {
            "text/plain": [
              "                                 Company Name            Industry      Symbol  \\\n",
              "0                      Adani Enterprises Ltd.     Metals & Mining    ADANIENT   \n",
              "1  Adani Ports and Special Economic Zone Ltd.            Services  ADANIPORTS   \n",
              "2            Apollo Hospitals Enterprise Ltd.          Healthcare  APOLLOHOSP   \n",
              "3                           Asian Paints Ltd.   Consumer Durables  ASIANPAINT   \n",
              "4                              Axis Bank Ltd.  Financial Services    AXISBANK   \n",
              "\n",
              "  Series     ISIN Code  \n",
              "0     EQ  INE423A01024  \n",
              "1     EQ  INE742F01042  \n",
              "2     EQ  INE437A01024  \n",
              "3     EQ  INE021A01026  \n",
              "4     EQ  INE238A01034  "
            ],
            "text/html": [
              "\n",
              "  <div id=\"df-c44f1b96-a503-4c6f-9e10-a7c158949435\">\n",
              "    <div class=\"colab-df-container\">\n",
              "      <div>\n",
              "<style scoped>\n",
              "    .dataframe tbody tr th:only-of-type {\n",
              "        vertical-align: middle;\n",
              "    }\n",
              "\n",
              "    .dataframe tbody tr th {\n",
              "        vertical-align: top;\n",
              "    }\n",
              "\n",
              "    .dataframe thead th {\n",
              "        text-align: right;\n",
              "    }\n",
              "</style>\n",
              "<table border=\"1\" class=\"dataframe\">\n",
              "  <thead>\n",
              "    <tr style=\"text-align: right;\">\n",
              "      <th></th>\n",
              "      <th>Company Name</th>\n",
              "      <th>Industry</th>\n",
              "      <th>Symbol</th>\n",
              "      <th>Series</th>\n",
              "      <th>ISIN Code</th>\n",
              "    </tr>\n",
              "  </thead>\n",
              "  <tbody>\n",
              "    <tr>\n",
              "      <th>0</th>\n",
              "      <td>Adani Enterprises Ltd.</td>\n",
              "      <td>Metals &amp; Mining</td>\n",
              "      <td>ADANIENT</td>\n",
              "      <td>EQ</td>\n",
              "      <td>INE423A01024</td>\n",
              "    </tr>\n",
              "    <tr>\n",
              "      <th>1</th>\n",
              "      <td>Adani Ports and Special Economic Zone Ltd.</td>\n",
              "      <td>Services</td>\n",
              "      <td>ADANIPORTS</td>\n",
              "      <td>EQ</td>\n",
              "      <td>INE742F01042</td>\n",
              "    </tr>\n",
              "    <tr>\n",
              "      <th>2</th>\n",
              "      <td>Apollo Hospitals Enterprise Ltd.</td>\n",
              "      <td>Healthcare</td>\n",
              "      <td>APOLLOHOSP</td>\n",
              "      <td>EQ</td>\n",
              "      <td>INE437A01024</td>\n",
              "    </tr>\n",
              "    <tr>\n",
              "      <th>3</th>\n",
              "      <td>Asian Paints Ltd.</td>\n",
              "      <td>Consumer Durables</td>\n",
              "      <td>ASIANPAINT</td>\n",
              "      <td>EQ</td>\n",
              "      <td>INE021A01026</td>\n",
              "    </tr>\n",
              "    <tr>\n",
              "      <th>4</th>\n",
              "      <td>Axis Bank Ltd.</td>\n",
              "      <td>Financial Services</td>\n",
              "      <td>AXISBANK</td>\n",
              "      <td>EQ</td>\n",
              "      <td>INE238A01034</td>\n",
              "    </tr>\n",
              "  </tbody>\n",
              "</table>\n",
              "</div>\n",
              "      <button class=\"colab-df-convert\" onclick=\"convertToInteractive('df-c44f1b96-a503-4c6f-9e10-a7c158949435')\"\n",
              "              title=\"Convert this dataframe to an interactive table.\"\n",
              "              style=\"display:none;\">\n",
              "        \n",
              "  <svg xmlns=\"http://www.w3.org/2000/svg\" height=\"24px\"viewBox=\"0 0 24 24\"\n",
              "       width=\"24px\">\n",
              "    <path d=\"M0 0h24v24H0V0z\" fill=\"none\"/>\n",
              "    <path d=\"M18.56 5.44l.94 2.06.94-2.06 2.06-.94-2.06-.94-.94-2.06-.94 2.06-2.06.94zm-11 1L8.5 8.5l.94-2.06 2.06-.94-2.06-.94L8.5 2.5l-.94 2.06-2.06.94zm10 10l.94 2.06.94-2.06 2.06-.94-2.06-.94-.94-2.06-.94 2.06-2.06.94z\"/><path d=\"M17.41 7.96l-1.37-1.37c-.4-.4-.92-.59-1.43-.59-.52 0-1.04.2-1.43.59L10.3 9.45l-7.72 7.72c-.78.78-.78 2.05 0 2.83L4 21.41c.39.39.9.59 1.41.59.51 0 1.02-.2 1.41-.59l7.78-7.78 2.81-2.81c.8-.78.8-2.07 0-2.86zM5.41 20L4 18.59l7.72-7.72 1.47 1.35L5.41 20z\"/>\n",
              "  </svg>\n",
              "      </button>\n",
              "      \n",
              "  <style>\n",
              "    .colab-df-container {\n",
              "      display:flex;\n",
              "      flex-wrap:wrap;\n",
              "      gap: 12px;\n",
              "    }\n",
              "\n",
              "    .colab-df-convert {\n",
              "      background-color: #E8F0FE;\n",
              "      border: none;\n",
              "      border-radius: 50%;\n",
              "      cursor: pointer;\n",
              "      display: none;\n",
              "      fill: #1967D2;\n",
              "      height: 32px;\n",
              "      padding: 0 0 0 0;\n",
              "      width: 32px;\n",
              "    }\n",
              "\n",
              "    .colab-df-convert:hover {\n",
              "      background-color: #E2EBFA;\n",
              "      box-shadow: 0px 1px 2px rgba(60, 64, 67, 0.3), 0px 1px 3px 1px rgba(60, 64, 67, 0.15);\n",
              "      fill: #174EA6;\n",
              "    }\n",
              "\n",
              "    [theme=dark] .colab-df-convert {\n",
              "      background-color: #3B4455;\n",
              "      fill: #D2E3FC;\n",
              "    }\n",
              "\n",
              "    [theme=dark] .colab-df-convert:hover {\n",
              "      background-color: #434B5C;\n",
              "      box-shadow: 0px 1px 3px 1px rgba(0, 0, 0, 0.15);\n",
              "      filter: drop-shadow(0px 1px 2px rgba(0, 0, 0, 0.3));\n",
              "      fill: #FFFFFF;\n",
              "    }\n",
              "  </style>\n",
              "\n",
              "      <script>\n",
              "        const buttonEl =\n",
              "          document.querySelector('#df-c44f1b96-a503-4c6f-9e10-a7c158949435 button.colab-df-convert');\n",
              "        buttonEl.style.display =\n",
              "          google.colab.kernel.accessAllowed ? 'block' : 'none';\n",
              "\n",
              "        async function convertToInteractive(key) {\n",
              "          const element = document.querySelector('#df-c44f1b96-a503-4c6f-9e10-a7c158949435');\n",
              "          const dataTable =\n",
              "            await google.colab.kernel.invokeFunction('convertToInteractive',\n",
              "                                                     [key], {});\n",
              "          if (!dataTable) return;\n",
              "\n",
              "          const docLinkHtml = 'Like what you see? Visit the ' +\n",
              "            '<a target=\"_blank\" href=https://colab.research.google.com/notebooks/data_table.ipynb>data table notebook</a>'\n",
              "            + ' to learn more about interactive tables.';\n",
              "          element.innerHTML = '';\n",
              "          dataTable['output_type'] = 'display_data';\n",
              "          await google.colab.output.renderOutput(dataTable, element);\n",
              "          const docLink = document.createElement('div');\n",
              "          docLink.innerHTML = docLinkHtml;\n",
              "          element.appendChild(docLink);\n",
              "        }\n",
              "      </script>\n",
              "    </div>\n",
              "  </div>\n",
              "  "
            ]
          },
          "metadata": {},
          "execution_count": 7
        }
      ]
    },
    {
      "cell_type": "code",
      "source": [
        "preprocessed_data = data_accumilator('/content', nifty50['Symbol'].sample(5))"
      ],
      "metadata": {
        "colab": {
          "base_uri": "https://localhost:8080/"
        },
        "id": "SgZ5wXd0zGq5",
        "outputId": "44f2ee60-16e8-44a9-b3f5-a85071b92fb8"
      },
      "execution_count": null,
      "outputs": [
        {
          "output_type": "stream",
          "name": "stdout",
          "text": [
            "Directory named \"Stocks Data\" with required data is downloaded successfully at \"/content\"\n"
          ]
        }
      ]
    },
    {
      "cell_type": "code",
      "source": [
        "preprocessed_data"
      ],
      "metadata": {
        "colab": {
          "base_uri": "https://localhost:8080/"
        },
        "id": "axN0pSWuQxbb",
        "outputId": "029e9aaf-3a82-44e5-9177-f3aea0abb433"
      },
      "execution_count": null,
      "outputs": [
        {
          "output_type": "execute_result",
          "data": {
            "text/plain": [
              "{'CIPLA': '/content/Stocks Data/CIPLA/Normalized_CIPLA.csv',\n",
              " 'RELIANCE': '/content/Stocks Data/RELIANCE/Normalized_RELIANCE.csv',\n",
              " 'WIPRO': '/content/Stocks Data/WIPRO/Normalized_WIPRO.csv',\n",
              " 'TATACONSUM': '/content/Stocks Data/TATACONSUM/Normalized_TATACONSUM.csv',\n",
              " 'JSWSTEEL': '/content/Stocks Data/JSWSTEEL/Normalized_JSWSTEEL.csv'}"
            ]
          },
          "metadata": {},
          "execution_count": 9
        }
      ]
    },
    {
      "cell_type": "code",
      "source": [
        "my_models"
      ],
      "metadata": {
        "colab": {
          "base_uri": "https://localhost:8080/"
        },
        "id": "ab2oS5ULHmP-",
        "outputId": "2f6513b7-642a-40b6-c054-ab2cafa03258"
      },
      "execution_count": null,
      "outputs": [
        {
          "output_type": "execute_result",
          "data": {
            "text/plain": [
              "[('Fixed', <function Models.simple_model(X, y, learn_rate)>),\n",
              " ('Dynamic', <function Models.dynamic_model(X, y, learn_rate)>),\n",
              " ('Bidirectional', <function Models.bidirectional_model(X, y, learn_rate)>),\n",
              " ('Stacked', <function Models.stacked_model(X, y, learn_rate)>)]"
            ]
          },
          "metadata": {},
          "execution_count": 10
        }
      ]
    },
    {
      "cell_type": "code",
      "source": [
        "from Data_Initializer import *"
      ],
      "metadata": {
        "id": "FOYjN5sqPZQ1"
      },
      "execution_count": null,
      "outputs": []
    },
    {
      "cell_type": "code",
      "source": [
        "def test_models(data_dict, epochs: int, models: dict, window_sizes: list, multi_seq:bool = False):\n",
        "  #test result data\n",
        "    sizes = []\n",
        "    model_name = []\n",
        "    tickers = []\n",
        "    train_errors = []\n",
        "    test_errors = []\n",
        "    param_count = []\n",
        "\n",
        "    for ticker in data_dict.keys():\n",
        "        print(\"\\n================================ NSE : {} ================================\".format(ticker))\n",
        "        for window_size in window_sizes:\n",
        "            print(\"\\nWindow size: {}\".format(window_size))\n",
        "            print('----------------')\n",
        "            for model_item in models:\n",
        "                data = pd.read_csv(data_dict[ticker])\n",
        "                X_train,y_train,X_test,y_test = train_test_data(data, split_size = 0.2, window_size = window_size, multi_seq = multi_seq)\n",
        "                model = model_item[1](X_train,y_train,0.001)\n",
        "                \n",
        "                # fit model!\n",
        "                model.fit(X_train, y_train, epochs=epochs, batch_size=50, verbose=0)\n",
        "\n",
        "                # print out training and testing errors\n",
        "                training_error = model.evaluate(X_train, y_train, verbose=0)\n",
        "                testing_error = model.evaluate(X_test, y_test, verbose=0)\n",
        "                msg = \" > Model: {0:<15} Param count: {1:} \\tTraining error: {2:.4f}\\tTesting error: {3:.4f}\"\n",
        "                print(msg.format(model_item[0],model.count_params(),training_error,testing_error))\n",
        "\n",
        "                #update result variables\n",
        "                param_count.append(model.count_params())\n",
        "                sizes.append(window_size)\n",
        "                tickers.append(ticker)\n",
        "                model_name.append(model_item[0])\n",
        "                train_errors.append(float(\"{0:.4f}\".format(training_error)))\n",
        "                test_errors.append(float(\"{0:.4f}\".format( testing_error)))\n",
        "\n",
        "    table= OrderedDict()\n",
        "    table['Window Size'] = sizes\n",
        "    table['Model Name'] = model_name\n",
        "    table['Ticker'] = tickers\n",
        "    table['Training Error'] = train_errors\n",
        "    table['Testing Error'] = test_errors\n",
        "    table['Param Count'] = param_count\n",
        "        \n",
        "    return table\n"
      ],
      "metadata": {
        "id": "aFS0TPSz6Kqg"
      },
      "execution_count": null,
      "outputs": []
    },
    {
      "cell_type": "code",
      "source": [
        "res = test_models(preprocessed_data, 100, my_models, window_sizes=[7,10,14,20], multi_seq=True)"
      ],
      "metadata": {
        "id": "Kf6B1fDo3-8E",
        "colab": {
          "base_uri": "https://localhost:8080/"
        },
        "outputId": "01b23fad-4426-4ffa-acfa-6edd0291c895"
      },
      "execution_count": null,
      "outputs": [
        {
          "output_type": "stream",
          "name": "stdout",
          "text": [
            "\n",
            "================================ NSE : CIPLA ================================\n",
            "\n",
            "Window size: 7\n",
            "----------------\n",
            " > Model: Fixed           Param count: 186 \tTraining error: 0.0049\tTesting error: 0.0767\n",
            " > Model: Dynamic         Param count: 316 \tTraining error: 0.0043\tTesting error: 0.0330\n",
            " > Model: Bidirectional   Param count: 729 \tTraining error: 0.0042\tTesting error: 0.0528\n",
            " > Model: Stacked         Param count: 886 \tTraining error: 0.0043\tTesting error: 0.0454\n",
            "\n",
            "Window size: 10\n",
            "----------------\n",
            " > Model: Fixed           Param count: 186 \tTraining error: 0.0046\tTesting error: 0.0629\n",
            " > Model: Dynamic         Param count: 571 \tTraining error: 0.0042\tTesting error: 0.0325\n",
            " > Model: Bidirectional   Param count: 1341 \tTraining error: 0.0043\tTesting error: 0.0466\n",
            " > Model: Stacked         Param count: 886 \tTraining error: 0.0052\tTesting error: 0.0632\n",
            "\n",
            "Window size: 14\n",
            "----------------\n",
            " > Model: Fixed           Param count: 186 \tTraining error: 0.0049\tTesting error: 0.0611\n",
            " > Model: Dynamic         Param count: 1023 \tTraining error: 0.0043\tTesting error: 0.0532\n",
            " > Model: Bidirectional   Param count: 2437 \tTraining error: 0.0040\tTesting error: 0.0709\n",
            " > Model: Stacked         Param count: 886 \tTraining error: 0.0042\tTesting error: 0.0777\n",
            "\n",
            "Window size: 20\n",
            "----------------\n",
            " > Model: Fixed           Param count: 186 \tTraining error: 0.0044\tTesting error: 0.0593\n",
            " > Model: Dynamic         Param count: 1941 \tTraining error: 0.0041\tTesting error: 0.0560\n",
            " > Model: Bidirectional   Param count: 4681 \tTraining error: 0.0039\tTesting error: 0.0540\n",
            " > Model: Stacked         Param count: 886 \tTraining error: 0.0045\tTesting error: 0.0738\n",
            "\n",
            "================================ NSE : RELIANCE ================================\n",
            "\n",
            "Window size: 7\n",
            "----------------\n",
            " > Model: Fixed           Param count: 186 \tTraining error: 0.0080\tTesting error: 0.0045\n",
            " > Model: Dynamic         Param count: 316 \tTraining error: 0.0077\tTesting error: 0.0044\n",
            " > Model: Bidirectional   Param count: 729 \tTraining error: 0.0070\tTesting error: 0.0049\n",
            " > Model: Stacked         Param count: 886 \tTraining error: 0.0073\tTesting error: 0.0044\n",
            "\n",
            "Window size: 10\n",
            "----------------\n",
            " > Model: Fixed           Param count: 186 \tTraining error: 0.0079\tTesting error: 0.0043\n",
            " > Model: Dynamic         Param count: 571 \tTraining error: 0.0075\tTesting error: 0.0049\n",
            " > Model: Bidirectional   Param count: 1341 \tTraining error: 0.0066\tTesting error: 0.0042\n",
            " > Model: Stacked         Param count: 886 \tTraining error: 0.0072\tTesting error: 0.0042\n",
            "\n",
            "Window size: 14\n",
            "----------------\n",
            " > Model: Fixed           Param count: 186 \tTraining error: 0.0078\tTesting error: 0.0052\n",
            " > Model: Dynamic         Param count: 1023 \tTraining error: 0.0068\tTesting error: 0.0041\n",
            " > Model: Bidirectional   Param count: 2437 \tTraining error: 0.0067\tTesting error: 0.0056\n",
            " > Model: Stacked         Param count: 886 \tTraining error: 0.0077\tTesting error: 0.0056\n",
            "\n",
            "Window size: 20\n",
            "----------------\n",
            " > Model: Fixed           Param count: 186 \tTraining error: 0.0076\tTesting error: 0.0046\n",
            " > Model: Dynamic         Param count: 1941 \tTraining error: 0.0063\tTesting error: 0.0051\n",
            " > Model: Bidirectional   Param count: 4681 \tTraining error: 0.0068\tTesting error: 0.0051\n",
            " > Model: Stacked         Param count: 886 \tTraining error: 0.0077\tTesting error: 0.0067\n",
            "\n",
            "================================ NSE : WIPRO ================================\n",
            "\n",
            "Window size: 7\n",
            "----------------\n",
            " > Model: Fixed           Param count: 186 \tTraining error: 0.0040\tTesting error: 0.0115\n",
            " > Model: Dynamic         Param count: 316 \tTraining error: 0.0034\tTesting error: 0.0060\n",
            " > Model: Bidirectional   Param count: 729 \tTraining error: 0.0036\tTesting error: 0.0065\n",
            " > Model: Stacked         Param count: 886 \tTraining error: 0.0035\tTesting error: 0.0042\n",
            "\n",
            "Window size: 10\n",
            "----------------\n",
            " > Model: Fixed           Param count: 186 \tTraining error: 0.0044\tTesting error: 0.0119\n",
            " > Model: Dynamic         Param count: 571 \tTraining error: 0.0031\tTesting error: 0.0045\n",
            " > Model: Bidirectional   Param count: 1341 \tTraining error: 0.0030\tTesting error: 0.0040\n",
            " > Model: Stacked         Param count: 886 \tTraining error: 0.0036\tTesting error: 0.0054\n",
            "\n",
            "Window size: 14\n",
            "----------------\n",
            " > Model: Fixed           Param count: 186 \tTraining error: 0.0041\tTesting error: 0.0112\n",
            " > Model: Dynamic         Param count: 1023 \tTraining error: 0.0032\tTesting error: 0.0036\n",
            " > Model: Bidirectional   Param count: 2437 \tTraining error: 0.0030\tTesting error: 0.0072\n",
            " > Model: Stacked         Param count: 886 \tTraining error: 0.0034\tTesting error: 0.0056\n",
            "\n",
            "Window size: 20\n",
            "----------------\n",
            " > Model: Fixed           Param count: 186 \tTraining error: 0.0044\tTesting error: 0.0091\n",
            " > Model: Dynamic         Param count: 1941 \tTraining error: 0.0029\tTesting error: 0.0077\n",
            " > Model: Bidirectional   Param count: 4681 \tTraining error: 0.0033\tTesting error: 0.0081\n",
            " > Model: Stacked         Param count: 886 \tTraining error: 0.0035\tTesting error: 0.0073\n",
            "\n",
            "================================ NSE : TATACONSUM ================================\n",
            "\n",
            "Window size: 7\n",
            "----------------\n",
            " > Model: Fixed           Param count: 186 \tTraining error: 0.0061\tTesting error: 0.0050\n",
            " > Model: Dynamic         Param count: 316 \tTraining error: 0.0063\tTesting error: 0.0050\n",
            " > Model: Bidirectional   Param count: 729 \tTraining error: 0.0061\tTesting error: 0.0048\n",
            " > Model: Stacked         Param count: 886 \tTraining error: 0.0060\tTesting error: 0.0050\n",
            "\n",
            "Window size: 10\n",
            "----------------\n",
            " > Model: Fixed           Param count: 186 \tTraining error: 0.0058\tTesting error: 0.0045\n",
            " > Model: Dynamic         Param count: 571 \tTraining error: 0.0056\tTesting error: 0.0048\n",
            " > Model: Bidirectional   Param count: 1341 \tTraining error: 0.0053\tTesting error: 0.0048\n",
            " > Model: Stacked         Param count: 886 \tTraining error: 0.0058\tTesting error: 0.0049\n",
            "\n",
            "Window size: 14\n",
            "----------------\n",
            " > Model: Fixed           Param count: 186 \tTraining error: 0.0065\tTesting error: 0.0051\n",
            " > Model: Dynamic         Param count: 1023 \tTraining error: 0.0056\tTesting error: 0.0046\n",
            " > Model: Bidirectional   Param count: 2437 \tTraining error: 0.0058\tTesting error: 0.0050\n",
            " > Model: Stacked         Param count: 886 \tTraining error: 0.0058\tTesting error: 0.0048\n",
            "\n",
            "Window size: 20\n",
            "----------------\n",
            " > Model: Fixed           Param count: 186 \tTraining error: 0.0059\tTesting error: 0.0046\n",
            " > Model: Dynamic         Param count: 1941 \tTraining error: 0.0054\tTesting error: 0.0058\n",
            " > Model: Bidirectional   Param count: 4681 \tTraining error: 0.0054\tTesting error: 0.0057\n",
            " > Model: Stacked         Param count: 886 \tTraining error: 0.0060\tTesting error: 0.0072\n",
            "\n",
            "================================ NSE : JSWSTEEL ================================\n",
            "\n",
            "Window size: 7\n",
            "----------------\n",
            " > Model: Fixed           Param count: 186 \tTraining error: 0.0048\tTesting error: 0.0147\n",
            " > Model: Dynamic         Param count: 316 \tTraining error: 0.0046\tTesting error: 0.0132\n",
            " > Model: Bidirectional   Param count: 729 \tTraining error: 0.0042\tTesting error: 0.0110\n",
            " > Model: Stacked         Param count: 886 \tTraining error: 0.0053\tTesting error: 0.0120\n",
            "\n",
            "Window size: 10\n",
            "----------------\n",
            " > Model: Fixed           Param count: 186 \tTraining error: 0.0048\tTesting error: 0.0117\n",
            " > Model: Dynamic         Param count: 571 \tTraining error: 0.0043\tTesting error: 0.0097\n",
            " > Model: Bidirectional   Param count: 1341 \tTraining error: 0.0047\tTesting error: 0.0086\n",
            " > Model: Stacked         Param count: 886 \tTraining error: 0.0044\tTesting error: 0.0138\n",
            "\n",
            "Window size: 14\n",
            "----------------\n",
            " > Model: Fixed           Param count: 186 \tTraining error: 0.0046\tTesting error: 0.0138\n",
            " > Model: Dynamic         Param count: 1023 \tTraining error: 0.0042\tTesting error: 0.0081\n",
            " > Model: Bidirectional   Param count: 2437 \tTraining error: 0.0043\tTesting error: 0.0099\n",
            " > Model: Stacked         Param count: 886 \tTraining error: 0.0048\tTesting error: 0.0219\n",
            "\n",
            "Window size: 20\n",
            "----------------\n",
            " > Model: Fixed           Param count: 186 \tTraining error: 0.0046\tTesting error: 0.0102\n",
            " > Model: Dynamic         Param count: 1941 \tTraining error: 0.0043\tTesting error: 0.0108\n",
            " > Model: Bidirectional   Param count: 4681 \tTraining error: 0.0038\tTesting error: 0.0082\n",
            " > Model: Stacked         Param count: 886 \tTraining error: 0.0047\tTesting error: 0.0171\n"
          ]
        }
      ]
    },
    {
      "cell_type": "code",
      "source": [
        "pd.pivot_table(res, values = ['Training Error', 'Testing Error'], index=['Window Size'])"
      ],
      "metadata": {
        "colab": {
          "base_uri": "https://localhost:8080/",
          "height": 331
        },
        "id": "aClScsRsEtSZ",
        "outputId": "e116ca48-101d-423f-a726-53633575b85c"
      },
      "execution_count": null,
      "outputs": [
        {
          "output_type": "error",
          "ename": "AttributeError",
          "evalue": "ignored",
          "traceback": [
            "\u001b[0;31m---------------------------------------------------------------------------\u001b[0m",
            "\u001b[0;31mAttributeError\u001b[0m                            Traceback (most recent call last)",
            "\u001b[0;32m<ipython-input-33-62049d2dbeb9>\u001b[0m in \u001b[0;36m<module>\u001b[0;34m\u001b[0m\n\u001b[0;32m----> 1\u001b[0;31m \u001b[0mpd\u001b[0m\u001b[0;34m.\u001b[0m\u001b[0mpivot_table\u001b[0m\u001b[0;34m(\u001b[0m\u001b[0mres\u001b[0m\u001b[0;34m,\u001b[0m \u001b[0mvalues\u001b[0m \u001b[0;34m=\u001b[0m \u001b[0;34m[\u001b[0m\u001b[0;34m'Training Error'\u001b[0m\u001b[0;34m,\u001b[0m \u001b[0;34m'Testing Error'\u001b[0m\u001b[0;34m]\u001b[0m\u001b[0;34m,\u001b[0m \u001b[0mindex\u001b[0m\u001b[0;34m=\u001b[0m\u001b[0;34m[\u001b[0m\u001b[0;34m'Window Size'\u001b[0m\u001b[0;34m]\u001b[0m\u001b[0;34m)\u001b[0m\u001b[0;34m\u001b[0m\u001b[0;34m\u001b[0m\u001b[0m\n\u001b[0m",
            "\u001b[0;32m/usr/local/lib/python3.8/dist-packages/pandas/core/reshape/pivot.py\u001b[0m in \u001b[0;36mpivot_table\u001b[0;34m(data, values, index, columns, aggfunc, fill_value, margins, dropna, margins_name, observed, sort)\u001b[0m\n\u001b[1;32m     93\u001b[0m         \u001b[0;32mreturn\u001b[0m \u001b[0mtable\u001b[0m\u001b[0;34m.\u001b[0m\u001b[0m__finalize__\u001b[0m\u001b[0;34m(\u001b[0m\u001b[0mdata\u001b[0m\u001b[0;34m,\u001b[0m \u001b[0mmethod\u001b[0m\u001b[0;34m=\u001b[0m\u001b[0;34m\"pivot_table\"\u001b[0m\u001b[0;34m)\u001b[0m\u001b[0;34m\u001b[0m\u001b[0;34m\u001b[0m\u001b[0m\n\u001b[1;32m     94\u001b[0m \u001b[0;34m\u001b[0m\u001b[0m\n\u001b[0;32m---> 95\u001b[0;31m     table = __internal_pivot_table(\n\u001b[0m\u001b[1;32m     96\u001b[0m         \u001b[0mdata\u001b[0m\u001b[0;34m,\u001b[0m\u001b[0;34m\u001b[0m\u001b[0;34m\u001b[0m\u001b[0m\n\u001b[1;32m     97\u001b[0m         \u001b[0mvalues\u001b[0m\u001b[0;34m,\u001b[0m\u001b[0;34m\u001b[0m\u001b[0;34m\u001b[0m\u001b[0m\n",
            "\u001b[0;32m/usr/local/lib/python3.8/dist-packages/pandas/core/reshape/pivot.py\u001b[0m in \u001b[0;36m__internal_pivot_table\u001b[0;34m(data, values, index, columns, aggfunc, fill_value, margins, dropna, margins_name, observed, sort)\u001b[0m\n\u001b[1;32m    150\u001b[0m             \u001b[0;32mexcept\u001b[0m \u001b[0mTypeError\u001b[0m\u001b[0;34m:\u001b[0m\u001b[0;34m\u001b[0m\u001b[0;34m\u001b[0m\u001b[0m\n\u001b[1;32m    151\u001b[0m                 \u001b[0;32mpass\u001b[0m\u001b[0;34m\u001b[0m\u001b[0;34m\u001b[0m\u001b[0m\n\u001b[0;32m--> 152\u001b[0;31m         \u001b[0;32mif\u001b[0m \u001b[0mlen\u001b[0m\u001b[0;34m(\u001b[0m\u001b[0mto_filter\u001b[0m\u001b[0;34m)\u001b[0m \u001b[0;34m<\u001b[0m \u001b[0mlen\u001b[0m\u001b[0;34m(\u001b[0m\u001b[0mdata\u001b[0m\u001b[0;34m.\u001b[0m\u001b[0mcolumns\u001b[0m\u001b[0;34m)\u001b[0m\u001b[0;34m:\u001b[0m\u001b[0;34m\u001b[0m\u001b[0;34m\u001b[0m\u001b[0m\n\u001b[0m\u001b[1;32m    153\u001b[0m             \u001b[0mdata\u001b[0m \u001b[0;34m=\u001b[0m \u001b[0mdata\u001b[0m\u001b[0;34m[\u001b[0m\u001b[0mto_filter\u001b[0m\u001b[0;34m]\u001b[0m\u001b[0;34m\u001b[0m\u001b[0;34m\u001b[0m\u001b[0m\n\u001b[1;32m    154\u001b[0m \u001b[0;34m\u001b[0m\u001b[0m\n",
            "\u001b[0;31mAttributeError\u001b[0m: 'collections.OrderedDict' object has no attribute 'columns'"
          ]
        }
      ]
    },
    {
      "cell_type": "code",
      "source": [
        "res['Ticker']"
      ],
      "metadata": {
        "colab": {
          "base_uri": "https://localhost:8080/"
        },
        "id": "ByK1FL9Q5Jjh",
        "outputId": "ce8d4bbe-674e-4b0e-c4d1-e1da2b3d1f38"
      },
      "execution_count": null,
      "outputs": [
        {
          "output_type": "execute_result",
          "data": {
            "text/plain": [
              "['CIPLA',\n",
              " 'CIPLA',\n",
              " 'CIPLA',\n",
              " 'CIPLA',\n",
              " 'CIPLA',\n",
              " 'CIPLA',\n",
              " 'CIPLA',\n",
              " 'CIPLA',\n",
              " 'CIPLA',\n",
              " 'CIPLA',\n",
              " 'CIPLA',\n",
              " 'CIPLA',\n",
              " 'CIPLA',\n",
              " 'CIPLA',\n",
              " 'CIPLA',\n",
              " 'CIPLA',\n",
              " 'RELIANCE',\n",
              " 'RELIANCE',\n",
              " 'RELIANCE',\n",
              " 'RELIANCE',\n",
              " 'RELIANCE',\n",
              " 'RELIANCE',\n",
              " 'RELIANCE',\n",
              " 'RELIANCE',\n",
              " 'RELIANCE',\n",
              " 'RELIANCE',\n",
              " 'RELIANCE',\n",
              " 'RELIANCE',\n",
              " 'RELIANCE',\n",
              " 'RELIANCE',\n",
              " 'RELIANCE',\n",
              " 'RELIANCE',\n",
              " 'WIPRO',\n",
              " 'WIPRO',\n",
              " 'WIPRO',\n",
              " 'WIPRO',\n",
              " 'WIPRO',\n",
              " 'WIPRO',\n",
              " 'WIPRO',\n",
              " 'WIPRO',\n",
              " 'WIPRO',\n",
              " 'WIPRO',\n",
              " 'WIPRO',\n",
              " 'WIPRO',\n",
              " 'WIPRO',\n",
              " 'WIPRO',\n",
              " 'WIPRO',\n",
              " 'WIPRO',\n",
              " 'TATACONSUM',\n",
              " 'TATACONSUM',\n",
              " 'TATACONSUM',\n",
              " 'TATACONSUM',\n",
              " 'TATACONSUM',\n",
              " 'TATACONSUM',\n",
              " 'TATACONSUM',\n",
              " 'TATACONSUM',\n",
              " 'TATACONSUM',\n",
              " 'TATACONSUM',\n",
              " 'TATACONSUM',\n",
              " 'TATACONSUM',\n",
              " 'TATACONSUM',\n",
              " 'TATACONSUM',\n",
              " 'TATACONSUM',\n",
              " 'TATACONSUM',\n",
              " 'JSWSTEEL',\n",
              " 'JSWSTEEL',\n",
              " 'JSWSTEEL',\n",
              " 'JSWSTEEL',\n",
              " 'JSWSTEEL',\n",
              " 'JSWSTEEL',\n",
              " 'JSWSTEEL',\n",
              " 'JSWSTEEL',\n",
              " 'JSWSTEEL',\n",
              " 'JSWSTEEL',\n",
              " 'JSWSTEEL',\n",
              " 'JSWSTEEL',\n",
              " 'JSWSTEEL',\n",
              " 'JSWSTEEL',\n",
              " 'JSWSTEEL',\n",
              " 'JSWSTEEL']"
            ]
          },
          "metadata": {},
          "execution_count": 31
        }
      ]
    },
    {
      "cell_type": "code",
      "source": [
        "df = pd.read_csv('Normalized_UPL.csv')"
      ],
      "metadata": {
        "id": "4fGIfuvPgpZz"
      },
      "execution_count": null,
      "outputs": []
    },
    {
      "cell_type": "code",
      "source": [
        "df.head(10)"
      ],
      "metadata": {
        "colab": {
          "base_uri": "https://localhost:8080/",
          "height": 363
        },
        "id": "gMUFF6JHhjMm",
        "outputId": "8c3663e7-1585-4909-cd61-f4adaa25e8a4"
      },
      "execution_count": null,
      "outputs": [
        {
          "output_type": "execute_result",
          "data": {
            "text/plain": [
              "   normal_close  normal_mfi  normal_returns\n",
              "0     -0.400130    0.956538        0.259899\n",
              "1     -0.491737    0.764949       -0.311530\n",
              "2     -0.381392    0.831014        0.548611\n",
              "3     -0.453741    0.648581       -0.226466\n",
              "4     -0.499545    0.461016       -0.118129\n",
              "5     -0.524528    0.469399       -0.029688\n",
              "6     -0.662720    0.320024       -0.540911\n",
              "7     -0.495120    0.447252        0.827687\n",
              "8     -0.537020    0.534004       -0.103735\n",
              "9     -0.590111    0.455292       -0.156450"
            ],
            "text/html": [
              "\n",
              "  <div id=\"df-b5cbd634-8ad2-48cc-b84e-3ec06a9081bb\">\n",
              "    <div class=\"colab-df-container\">\n",
              "      <div>\n",
              "<style scoped>\n",
              "    .dataframe tbody tr th:only-of-type {\n",
              "        vertical-align: middle;\n",
              "    }\n",
              "\n",
              "    .dataframe tbody tr th {\n",
              "        vertical-align: top;\n",
              "    }\n",
              "\n",
              "    .dataframe thead th {\n",
              "        text-align: right;\n",
              "    }\n",
              "</style>\n",
              "<table border=\"1\" class=\"dataframe\">\n",
              "  <thead>\n",
              "    <tr style=\"text-align: right;\">\n",
              "      <th></th>\n",
              "      <th>normal_close</th>\n",
              "      <th>normal_mfi</th>\n",
              "      <th>normal_returns</th>\n",
              "    </tr>\n",
              "  </thead>\n",
              "  <tbody>\n",
              "    <tr>\n",
              "      <th>0</th>\n",
              "      <td>-0.400130</td>\n",
              "      <td>0.956538</td>\n",
              "      <td>0.259899</td>\n",
              "    </tr>\n",
              "    <tr>\n",
              "      <th>1</th>\n",
              "      <td>-0.491737</td>\n",
              "      <td>0.764949</td>\n",
              "      <td>-0.311530</td>\n",
              "    </tr>\n",
              "    <tr>\n",
              "      <th>2</th>\n",
              "      <td>-0.381392</td>\n",
              "      <td>0.831014</td>\n",
              "      <td>0.548611</td>\n",
              "    </tr>\n",
              "    <tr>\n",
              "      <th>3</th>\n",
              "      <td>-0.453741</td>\n",
              "      <td>0.648581</td>\n",
              "      <td>-0.226466</td>\n",
              "    </tr>\n",
              "    <tr>\n",
              "      <th>4</th>\n",
              "      <td>-0.499545</td>\n",
              "      <td>0.461016</td>\n",
              "      <td>-0.118129</td>\n",
              "    </tr>\n",
              "    <tr>\n",
              "      <th>5</th>\n",
              "      <td>-0.524528</td>\n",
              "      <td>0.469399</td>\n",
              "      <td>-0.029688</td>\n",
              "    </tr>\n",
              "    <tr>\n",
              "      <th>6</th>\n",
              "      <td>-0.662720</td>\n",
              "      <td>0.320024</td>\n",
              "      <td>-0.540911</td>\n",
              "    </tr>\n",
              "    <tr>\n",
              "      <th>7</th>\n",
              "      <td>-0.495120</td>\n",
              "      <td>0.447252</td>\n",
              "      <td>0.827687</td>\n",
              "    </tr>\n",
              "    <tr>\n",
              "      <th>8</th>\n",
              "      <td>-0.537020</td>\n",
              "      <td>0.534004</td>\n",
              "      <td>-0.103735</td>\n",
              "    </tr>\n",
              "    <tr>\n",
              "      <th>9</th>\n",
              "      <td>-0.590111</td>\n",
              "      <td>0.455292</td>\n",
              "      <td>-0.156450</td>\n",
              "    </tr>\n",
              "  </tbody>\n",
              "</table>\n",
              "</div>\n",
              "      <button class=\"colab-df-convert\" onclick=\"convertToInteractive('df-b5cbd634-8ad2-48cc-b84e-3ec06a9081bb')\"\n",
              "              title=\"Convert this dataframe to an interactive table.\"\n",
              "              style=\"display:none;\">\n",
              "        \n",
              "  <svg xmlns=\"http://www.w3.org/2000/svg\" height=\"24px\"viewBox=\"0 0 24 24\"\n",
              "       width=\"24px\">\n",
              "    <path d=\"M0 0h24v24H0V0z\" fill=\"none\"/>\n",
              "    <path d=\"M18.56 5.44l.94 2.06.94-2.06 2.06-.94-2.06-.94-.94-2.06-.94 2.06-2.06.94zm-11 1L8.5 8.5l.94-2.06 2.06-.94-2.06-.94L8.5 2.5l-.94 2.06-2.06.94zm10 10l.94 2.06.94-2.06 2.06-.94-2.06-.94-.94-2.06-.94 2.06-2.06.94z\"/><path d=\"M17.41 7.96l-1.37-1.37c-.4-.4-.92-.59-1.43-.59-.52 0-1.04.2-1.43.59L10.3 9.45l-7.72 7.72c-.78.78-.78 2.05 0 2.83L4 21.41c.39.39.9.59 1.41.59.51 0 1.02-.2 1.41-.59l7.78-7.78 2.81-2.81c.8-.78.8-2.07 0-2.86zM5.41 20L4 18.59l7.72-7.72 1.47 1.35L5.41 20z\"/>\n",
              "  </svg>\n",
              "      </button>\n",
              "      \n",
              "  <style>\n",
              "    .colab-df-container {\n",
              "      display:flex;\n",
              "      flex-wrap:wrap;\n",
              "      gap: 12px;\n",
              "    }\n",
              "\n",
              "    .colab-df-convert {\n",
              "      background-color: #E8F0FE;\n",
              "      border: none;\n",
              "      border-radius: 50%;\n",
              "      cursor: pointer;\n",
              "      display: none;\n",
              "      fill: #1967D2;\n",
              "      height: 32px;\n",
              "      padding: 0 0 0 0;\n",
              "      width: 32px;\n",
              "    }\n",
              "\n",
              "    .colab-df-convert:hover {\n",
              "      background-color: #E2EBFA;\n",
              "      box-shadow: 0px 1px 2px rgba(60, 64, 67, 0.3), 0px 1px 3px 1px rgba(60, 64, 67, 0.15);\n",
              "      fill: #174EA6;\n",
              "    }\n",
              "\n",
              "    [theme=dark] .colab-df-convert {\n",
              "      background-color: #3B4455;\n",
              "      fill: #D2E3FC;\n",
              "    }\n",
              "\n",
              "    [theme=dark] .colab-df-convert:hover {\n",
              "      background-color: #434B5C;\n",
              "      box-shadow: 0px 1px 3px 1px rgba(0, 0, 0, 0.15);\n",
              "      filter: drop-shadow(0px 1px 2px rgba(0, 0, 0, 0.3));\n",
              "      fill: #FFFFFF;\n",
              "    }\n",
              "  </style>\n",
              "\n",
              "      <script>\n",
              "        const buttonEl =\n",
              "          document.querySelector('#df-b5cbd634-8ad2-48cc-b84e-3ec06a9081bb button.colab-df-convert');\n",
              "        buttonEl.style.display =\n",
              "          google.colab.kernel.accessAllowed ? 'block' : 'none';\n",
              "\n",
              "        async function convertToInteractive(key) {\n",
              "          const element = document.querySelector('#df-b5cbd634-8ad2-48cc-b84e-3ec06a9081bb');\n",
              "          const dataTable =\n",
              "            await google.colab.kernel.invokeFunction('convertToInteractive',\n",
              "                                                     [key], {});\n",
              "          if (!dataTable) return;\n",
              "\n",
              "          const docLinkHtml = 'Like what you see? Visit the ' +\n",
              "            '<a target=\"_blank\" href=https://colab.research.google.com/notebooks/data_table.ipynb>data table notebook</a>'\n",
              "            + ' to learn more about interactive tables.';\n",
              "          element.innerHTML = '';\n",
              "          dataTable['output_type'] = 'display_data';\n",
              "          await google.colab.output.renderOutput(dataTable, element);\n",
              "          const docLink = document.createElement('div');\n",
              "          docLink.innerHTML = docLinkHtml;\n",
              "          element.appendChild(docLink);\n",
              "        }\n",
              "      </script>\n",
              "    </div>\n",
              "  </div>\n",
              "  "
            ]
          },
          "metadata": {},
          "execution_count": 15
        }
      ]
    },
    {
      "cell_type": "code",
      "source": [
        "m1,m2,m3,m4 = train_test_data(df, split_size = 0.3, window_size = 5, multi_seq = True)"
      ],
      "metadata": {
        "id": "DW824AxBg4m4"
      },
      "execution_count": null,
      "outputs": []
    },
    {
      "cell_type": "code",
      "source": [
        "m1.shape[1:]"
      ],
      "metadata": {
        "colab": {
          "base_uri": "https://localhost:8080/"
        },
        "id": "FvG6ZLwI74O7",
        "outputId": "4d7d05f8-9b23-4ebd-9268-684b221f3c41"
      },
      "execution_count": null,
      "outputs": [
        {
          "output_type": "execute_result",
          "data": {
            "text/plain": [
              "(5, 3)"
            ]
          },
          "metadata": {},
          "execution_count": 17
        }
      ]
    },
    {
      "cell_type": "code",
      "source": [
        "m1[1]"
      ],
      "metadata": {
        "colab": {
          "base_uri": "https://localhost:8080/"
        },
        "id": "d3Ba4_j6vagH",
        "outputId": "3077055e-f41a-4dd0-fd61-2d048b56fea5"
      },
      "execution_count": null,
      "outputs": [
        {
          "output_type": "execute_result",
          "data": {
            "text/plain": [
              "array([[-0.49173709,  0.76494917, -0.31152977],\n",
              "       [-0.38139203,  0.83101408,  0.5486111 ],\n",
              "       [-0.45374124,  0.64858073, -0.22646629],\n",
              "       [-0.49954473,  0.46101643, -0.11812922],\n",
              "       [-0.52452807,  0.46939903, -0.02968832]])"
            ]
          },
          "metadata": {},
          "execution_count": 18
        }
      ]
    },
    {
      "cell_type": "code",
      "source": [
        "m1.shape"
      ],
      "metadata": {
        "colab": {
          "base_uri": "https://localhost:8080/"
        },
        "id": "cpKWPtrnhbk5",
        "outputId": "e866de3c-be7f-42e5-b2d5-367b6c82cc39"
      },
      "execution_count": null,
      "outputs": [
        {
          "output_type": "execute_result",
          "data": {
            "text/plain": [
              "(334, 5, 3)"
            ]
          },
          "metadata": {},
          "execution_count": 19
        }
      ]
    }
  ]
}