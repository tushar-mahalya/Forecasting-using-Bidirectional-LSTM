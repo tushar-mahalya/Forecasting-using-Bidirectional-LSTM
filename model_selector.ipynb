{
 "cells": [
  {
   "cell_type": "markdown",
   "metadata": {},
   "source": [
    "[![Open In Studio Lab](https://studiolab.sagemaker.aws/studiolab.svg)](https://studiolab.sagemaker.aws/import/github/tushar-mahalya/Forecasting-using-Bidirectional-LSTM/blob/master/model_selector.ipynb)"
   ]
  },
  {
   "cell_type": "code",
   "execution_count": 6,
   "metadata": {
    "id": "wRbQKHs-wCqS"
   },
   "outputs": [
    {
     "name": "stderr",
     "output_type": "stream",
     "text": [
      "2023-04-05 04:41:06.114471: I tensorflow/core/platform/cpu_feature_guard.cc:193] This TensorFlow binary is optimized with oneAPI Deep Neural Network Library (oneDNN) to use the following CPU instructions in performance-critical operations:  SSE4.1 SSE4.2 AVX AVX2 AVX512F FMA\n",
      "To enable them in other operations, rebuild TensorFlow with the appropriate compiler flags.\n"
     ]
    }
   ],
   "source": [
    "# Importing important pakages\n",
    "import os\n",
    "import json\n",
    "import numpy as np\n",
    "import pandas as pd\n",
    "from collections import OrderedDict\n",
    "from termcolor import colored as color\n",
    "\n",
    "# Importing TF.keras packages\n",
    "from keras.models import Sequential\n",
    "from keras.optimizers import RMSprop\n",
    "from keras.layers import Dense, LSTM, Dropout, Bidirectional\n",
    "\n",
    "# To avoid irrelevent warning messages\n",
    "os.environ['TF_CPP_MIN_LOG_LEVEL'] = '3'"
   ]
  },
  {
   "cell_type": "code",
   "execution_count": 7,
   "metadata": {
    "id": "ej1tIDl5y_Y2",
    "tags": []
   },
   "outputs": [],
   "source": [
    "# Yahoo Finance API\n",
    "import yfinance\n",
    "\n",
    "# Function to download stock data (univariate or multivariate)\n",
    "from Data_Downloader import data_accumilator"
   ]
  },
  {
   "cell_type": "code",
   "execution_count": 8,
   "metadata": {
    "id": "pgBR7cRdHgsf"
   },
   "outputs": [
    {
     "data": {
      "text/plain": [
       "[('Fixed', <function Models.simple_model(X, y, learn_rate)>),\n",
       " ('Dynamic', <function Models.dynamic_model(X, y, learn_rate)>),\n",
       " ('Bidirectional', <function Models.bidirectional_model(X, y, learn_rate)>),\n",
       " ('Stacked', <function Models.stacked_model(X, y, learn_rate)>)]"
      ]
     },
     "execution_count": 8,
     "metadata": {},
     "output_type": "execute_result"
    }
   ],
   "source": [
    "# Importing custom defined models into local runtime\n",
    "from Models import models\n",
    "my_models = models()\n",
    "my_models"
   ]
  },
  {
   "cell_type": "code",
   "execution_count": 9,
   "metadata": {
    "id": "zauXK0MrzGum"
   },
   "outputs": [
    {
     "data": {
      "text/html": [
       "<div>\n",
       "<style scoped>\n",
       "    .dataframe tbody tr th:only-of-type {\n",
       "        vertical-align: middle;\n",
       "    }\n",
       "\n",
       "    .dataframe tbody tr th {\n",
       "        vertical-align: top;\n",
       "    }\n",
       "\n",
       "    .dataframe thead th {\n",
       "        text-align: right;\n",
       "    }\n",
       "</style>\n",
       "<table border=\"1\" class=\"dataframe\">\n",
       "  <thead>\n",
       "    <tr style=\"text-align: right;\">\n",
       "      <th></th>\n",
       "      <th>Company Name</th>\n",
       "      <th>Industry</th>\n",
       "      <th>Symbol</th>\n",
       "      <th>Series</th>\n",
       "      <th>ISIN Code</th>\n",
       "    </tr>\n",
       "  </thead>\n",
       "  <tbody>\n",
       "    <tr>\n",
       "      <th>0</th>\n",
       "      <td>Adani Enterprises Ltd.</td>\n",
       "      <td>Metals &amp; Mining</td>\n",
       "      <td>ADANIENT</td>\n",
       "      <td>EQ</td>\n",
       "      <td>INE423A01024</td>\n",
       "    </tr>\n",
       "    <tr>\n",
       "      <th>1</th>\n",
       "      <td>Adani Ports and Special Economic Zone Ltd.</td>\n",
       "      <td>Services</td>\n",
       "      <td>ADANIPORTS</td>\n",
       "      <td>EQ</td>\n",
       "      <td>INE742F01042</td>\n",
       "    </tr>\n",
       "    <tr>\n",
       "      <th>2</th>\n",
       "      <td>Apollo Hospitals Enterprise Ltd.</td>\n",
       "      <td>Healthcare</td>\n",
       "      <td>APOLLOHOSP</td>\n",
       "      <td>EQ</td>\n",
       "      <td>INE437A01024</td>\n",
       "    </tr>\n",
       "    <tr>\n",
       "      <th>3</th>\n",
       "      <td>Asian Paints Ltd.</td>\n",
       "      <td>Consumer Durables</td>\n",
       "      <td>ASIANPAINT</td>\n",
       "      <td>EQ</td>\n",
       "      <td>INE021A01026</td>\n",
       "    </tr>\n",
       "    <tr>\n",
       "      <th>4</th>\n",
       "      <td>Axis Bank Ltd.</td>\n",
       "      <td>Financial Services</td>\n",
       "      <td>AXISBANK</td>\n",
       "      <td>EQ</td>\n",
       "      <td>INE238A01034</td>\n",
       "    </tr>\n",
       "  </tbody>\n",
       "</table>\n",
       "</div>"
      ],
      "text/plain": [
       "                                 Company Name            Industry      Symbol  \\\n",
       "0                      Adani Enterprises Ltd.     Metals & Mining    ADANIENT   \n",
       "1  Adani Ports and Special Economic Zone Ltd.            Services  ADANIPORTS   \n",
       "2            Apollo Hospitals Enterprise Ltd.          Healthcare  APOLLOHOSP   \n",
       "3                           Asian Paints Ltd.   Consumer Durables  ASIANPAINT   \n",
       "4                              Axis Bank Ltd.  Financial Services    AXISBANK   \n",
       "\n",
       "  Series     ISIN Code  \n",
       "0     EQ  INE423A01024  \n",
       "1     EQ  INE742F01042  \n",
       "2     EQ  INE437A01024  \n",
       "3     EQ  INE021A01026  \n",
       "4     EQ  INE238A01034  "
      ]
     },
     "execution_count": 9,
     "metadata": {},
     "output_type": "execute_result"
    }
   ],
   "source": [
    "# Nifty50 stocks indormation\n",
    "nifty50 = pd.read_csv('nifty50.csv')\n",
    "nifty50.head()"
   ]
  },
  {
   "cell_type": "code",
   "execution_count": 10,
   "metadata": {
    "colab": {
     "base_uri": "https://localhost:8080/"
    },
    "id": "SgZ5wXd0zGq5",
    "outputId": "44f2ee60-16e8-44a9-b3f5-a85071b92fb8"
   },
   "outputs": [
    {
     "name": "stdout",
     "output_type": "stream",
     "text": [
      "Directory named \"Stocks Data\" with required data is downloaded successfully at \"/home/studio-lab-user/sagemaker-studiolab-notebooks/Forecasting-using-Bidirectional-LSTM\"\n"
     ]
    }
   ],
   "source": [
    "# Get the current working directory (cwd)\n",
    "cwd = os.getcwd()\n",
    "\n",
    "# Downloading Nifty50 stocks data in Current working directory\n",
    "preprocessed_data = data_accumilator(cwd, nifty50['Symbol'].sample(2))"
   ]
  },
  {
   "cell_type": "code",
   "execution_count": 36,
   "metadata": {
    "colab": {
     "base_uri": "https://localhost:8080/"
    },
    "id": "axN0pSWuQxbb",
    "outputId": "029e9aaf-3a82-44e5-9177-f3aea0abb433"
   },
   "outputs": [
    {
     "data": {
      "text/plain": [
       "{'ADANIENT': '/home/studio-lab-user/sagemaker-studiolab-notebooks/Forecasting-using-Bidirectional-LSTM/Stocks Data/ADANIENT/Normalized_ADANIENT.csv',\n",
       " 'ADANIPORTS': '/home/studio-lab-user/sagemaker-studiolab-notebooks/Forecasting-using-Bidirectional-LSTM/Stocks Data/ADANIPORTS/Normalized_ADANIPORTS.csv',\n",
       " 'APOLLOHOSP': '/home/studio-lab-user/sagemaker-studiolab-notebooks/Forecasting-using-Bidirectional-LSTM/Stocks Data/APOLLOHOSP/Normalized_APOLLOHOSP.csv',\n",
       " 'ASIANPAINT': '/home/studio-lab-user/sagemaker-studiolab-notebooks/Forecasting-using-Bidirectional-LSTM/Stocks Data/ASIANPAINT/Normalized_ASIANPAINT.csv',\n",
       " 'AXISBANK': '/home/studio-lab-user/sagemaker-studiolab-notebooks/Forecasting-using-Bidirectional-LSTM/Stocks Data/AXISBANK/Normalized_AXISBANK.csv'}"
      ]
     },
     "execution_count": 36,
     "metadata": {},
     "output_type": "execute_result"
    }
   ],
   "source": [
    "# Dictionary with stock ticker(key) and location of \n",
    "# normalized data of that stock (value)\n",
    "dict(list(preprocessed_data.items())[:5])  # First 5 elements"
   ]
  },
  {
   "cell_type": "code",
   "execution_count": 11,
   "metadata": {
    "id": "FOYjN5sqPZQ1"
   },
   "outputs": [],
   "source": [
    "# Importing data initializing function\n",
    "from Data_Initializer import train_test_data\n",
    "\n",
    "# Importing best model selector function\n",
    "from Model_Selector import test_models"
   ]
  },
  {
   "cell_type": "code",
   "execution_count": 17,
   "metadata": {
    "colab": {
     "base_uri": "https://localhost:8080/"
    },
    "id": "Kf6B1fDo3-8E",
    "outputId": "01b23fad-4426-4ffa-acfa-6edd0291c895"
   },
   "outputs": [
    {
     "name": "stdout",
     "output_type": "stream",
     "text": [
      "\u001b[1m\u001b[31m\n",
      "================================ NSE : CIPLA ================================\u001b[0m\n",
      "\u001b[32m\n",
      "--------------------------------------------------------------- \u001b[0m\u001b[32mSimple Sequence\u001b[0m\n",
      "\u001b[34m\n",
      "Window size : 2\u001b[0m\n",
      "\u001b[33m----------------\u001b[0m\n",
      "\u001b[32m  >\u001b[0m Model: Fixed           Param count: 146 \tTraining error: 0.0958\tTesting error: 0.4501\n",
      "\u001b[32m  >\u001b[0m Model: Dynamic         Param count: 35 \tTraining error: 0.0364\tTesting error: 0.1672\n",
      "\u001b[32m  >\u001b[0m Model: Bidirectional   Param count: 77 \tTraining error: 0.0813\tTesting error: 0.4850\n",
      "\u001b[32m  >\u001b[0m Model: Stacked         Param count: 806 \tTraining error: 0.0793\tTesting error: 0.4774\n",
      "\u001b[32m\n",
      "--------------------------------------------------------------- \u001b[0m\u001b[32mMulti Sequence\u001b[0m\n",
      "\u001b[34m\n",
      "Window size : 2\u001b[0m\n",
      "\u001b[33m----------------\u001b[0m\n",
      "\u001b[32m  >\u001b[0m Model: Fixed           Param count: 186 \tTraining error: 0.1469\tTesting error: 0.8378\n",
      "\u001b[32m  >\u001b[0m Model: Dynamic         Param count: 51 \tTraining error: 0.2217\tTesting error: 1.2661\n",
      "\u001b[32m  >\u001b[0m Model: Bidirectional   Param count: 109 \tTraining error: 0.0786\tTesting error: 0.3817\n",
      "\u001b[32m  >\u001b[0m Model: Stacked         Param count: 886 \tTraining error: 0.0861\tTesting error: 0.4939\n",
      "\u001b[1m\u001b[31m\n",
      "================================ NSE : ASIANPAINT ================================\u001b[0m\n",
      "\u001b[32m\n",
      "--------------------------------------------------------------- \u001b[0m\u001b[32mSimple Sequence\u001b[0m\n",
      "\u001b[34m\n",
      "Window size : 2\u001b[0m\n",
      "\u001b[33m----------------\u001b[0m\n",
      "\u001b[32m  >\u001b[0m Model: Fixed           Param count: 146 \tTraining error: 0.2692\tTesting error: 0.3491\n",
      "\u001b[32m  >\u001b[0m Model: Dynamic         Param count: 35 \tTraining error: 0.3486\tTesting error: 0.4420\n",
      "\u001b[32m  >\u001b[0m Model: Bidirectional   Param count: 77 \tTraining error: 0.2012\tTesting error: 0.2698\n",
      "\u001b[32m  >\u001b[0m Model: Stacked         Param count: 806 \tTraining error: 0.1904\tTesting error: 0.2402\n",
      "\u001b[32m\n",
      "--------------------------------------------------------------- \u001b[0m\u001b[32mMulti Sequence\u001b[0m\n",
      "\u001b[34m\n",
      "Window size : 2\u001b[0m\n",
      "\u001b[33m----------------\u001b[0m\n",
      "\u001b[32m  >\u001b[0m Model: Fixed           Param count: 186 \tTraining error: 0.3543\tTesting error: 0.3432\n",
      "\u001b[32m  >\u001b[0m Model: Dynamic         Param count: 51 \tTraining error: 0.2399\tTesting error: 0.3259\n",
      "\u001b[32m  >\u001b[0m Model: Bidirectional   Param count: 109 \tTraining error: 0.0999\tTesting error: 0.1229\n",
      "\u001b[32m  >\u001b[0m Model: Stacked         Param count: 886 \tTraining error: 0.1972\tTesting error: 0.2586\n",
      "\u001b[35m\n",
      "Succesfully Evaluated different models and saved all logs and best model performance metrics in 'Model Performance' directory.\u001b[0m\n"
     ]
    }
   ],
   "source": [
    "res = test_models_dumdum(preprocessed_data, 2, my_models, window_sizes=[2])"
   ]
  }
 ],
 "metadata": {
  "accelerator": "GPU",
  "colab": {
   "provenance": []
  },
  "gpuClass": "standard",
  "kernelspec": {
   "display_name": "ml_dl_310:Python",
   "language": "python",
   "name": "conda-env-ml_dl_310-py"
  },
  "language_info": {
   "codemirror_mode": {
    "name": "ipython",
    "version": 3
   },
   "file_extension": ".py",
   "mimetype": "text/x-python",
   "name": "python",
   "nbconvert_exporter": "python",
   "pygments_lexer": "ipython3",
   "version": "3.10.9"
  }
 },
 "nbformat": 4,
 "nbformat_minor": 4
}
