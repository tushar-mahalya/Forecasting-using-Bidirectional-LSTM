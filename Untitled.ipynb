{
 "cells": [
  {
   "cell_type": "code",
   "execution_count": 1,
   "id": "17d99bf1-13ff-420b-a3cd-589244e8f1da",
   "metadata": {},
   "outputs": [],
   "source": [
    "import pandas as pd\n",
    "import numpy as np\n",
    "from Models import models\n",
    "from sklearn.metrics import mean_absolute_percentage_error as mape\n",
    "from sklearn.metrics import r2_score\n",
    "from Data_Initializer import predictor_response_split, train_test_split"
   ]
  },
  {
   "cell_type": "code",
   "execution_count": 2,
   "id": "953e91c3-d0bf-4232-8b83-d41bec06a869",
   "metadata": {},
   "outputs": [
    {
     "data": {
      "text/plain": [
       "{'Fixed': <function Models.simple_model(X, y, learn_rate, model_name=None)>,\n",
       " 'Dynamic': <function Models.dynamic_model(X, y, learn_rate, model_name=None)>,\n",
       " 'Bidirectional': <function Models.bidirectional_model(X, y, learn_rate, model_name=None)>,\n",
       " 'Stacked': <function Models.stacked_model(X, y, learn_rate, model_name=None)>}"
      ]
     },
     "execution_count": 2,
     "metadata": {},
     "output_type": "execute_result"
    }
   ],
   "source": [
    "model = models()\n",
    "model"
   ]
  },
  {
   "cell_type": "code",
   "execution_count": 14,
   "id": "05c9ece0-51f8-4780-9a99-d83a83ff1e63",
   "metadata": {},
   "outputs": [],
   "source": [
    "def symmetric_mean_absolute_percentage_error(y_true: np.array, y_pred: np.array):\n",
    "    \n",
    "    smape =  np.mean(2 * np.abs(y_pred - y_true) / (np.abs(y_true) + np.abs(y_pred))) * 100\n",
    "    \n",
    "    return smape"
   ]
  },
  {
   "cell_type": "code",
   "execution_count": 3,
   "id": "6e63f866-715e-4fc5-99b9-6d45412d25c3",
   "metadata": {},
   "outputs": [
    {
     "data": {
      "text/html": [
       "<div>\n",
       "<style scoped>\n",
       "    .dataframe tbody tr th:only-of-type {\n",
       "        vertical-align: middle;\n",
       "    }\n",
       "\n",
       "    .dataframe tbody tr th {\n",
       "        vertical-align: top;\n",
       "    }\n",
       "\n",
       "    .dataframe thead th {\n",
       "        text-align: right;\n",
       "    }\n",
       "</style>\n",
       "<table border=\"1\" class=\"dataframe\">\n",
       "  <thead>\n",
       "    <tr style=\"text-align: right;\">\n",
       "      <th></th>\n",
       "      <th>normal_close</th>\n",
       "      <th>normal_mfi</th>\n",
       "      <th>normal_returns</th>\n",
       "    </tr>\n",
       "  </thead>\n",
       "  <tbody>\n",
       "    <tr>\n",
       "      <th>0</th>\n",
       "      <td>-0.400130</td>\n",
       "      <td>0.956538</td>\n",
       "      <td>0.259899</td>\n",
       "    </tr>\n",
       "    <tr>\n",
       "      <th>1</th>\n",
       "      <td>-0.491737</td>\n",
       "      <td>0.764949</td>\n",
       "      <td>-0.311530</td>\n",
       "    </tr>\n",
       "    <tr>\n",
       "      <th>2</th>\n",
       "      <td>-0.381392</td>\n",
       "      <td>0.831014</td>\n",
       "      <td>0.548611</td>\n",
       "    </tr>\n",
       "    <tr>\n",
       "      <th>3</th>\n",
       "      <td>-0.453741</td>\n",
       "      <td>0.648581</td>\n",
       "      <td>-0.226466</td>\n",
       "    </tr>\n",
       "    <tr>\n",
       "      <th>4</th>\n",
       "      <td>-0.499545</td>\n",
       "      <td>0.461016</td>\n",
       "      <td>-0.118129</td>\n",
       "    </tr>\n",
       "  </tbody>\n",
       "</table>\n",
       "</div>"
      ],
      "text/plain": [
       "   normal_close  normal_mfi  normal_returns\n",
       "0     -0.400130    0.956538        0.259899\n",
       "1     -0.491737    0.764949       -0.311530\n",
       "2     -0.381392    0.831014        0.548611\n",
       "3     -0.453741    0.648581       -0.226466\n",
       "4     -0.499545    0.461016       -0.118129"
      ]
     },
     "execution_count": 3,
     "metadata": {},
     "output_type": "execute_result"
    }
   ],
   "source": [
    "data  = pd.read_csv('Normalized_UPL.csv')\n",
    "data.head()"
   ]
  },
  {
   "cell_type": "code",
   "execution_count": 4,
   "id": "0c5d409d-65a2-483c-8973-947d5b7fb0a1",
   "metadata": {},
   "outputs": [],
   "source": [
    "x,y = predictor_response_split(data, 7, \"Multi\")\n",
    "x_train, y_train, x_test, y_test = train_test_split(x, y, 0.2)"
   ]
  },
  {
   "cell_type": "code",
   "execution_count": 5,
   "id": "26cac5f4-2b75-43b9-bcad-4219df55ce37",
   "metadata": {},
   "outputs": [],
   "source": [
    "model = model['Stacked'](x_train,y_train,0.001)"
   ]
  },
  {
   "cell_type": "code",
   "execution_count": 6,
   "id": "0b641c7b-1502-488d-935f-a78005093234",
   "metadata": {},
   "outputs": [
    {
     "data": {
      "text/plain": [
       "<keras.callbacks.History at 0x7fb8b86f3730>"
      ]
     },
     "execution_count": 6,
     "metadata": {},
     "output_type": "execute_result"
    }
   ],
   "source": [
    "model.fit(x_train, y_train,epochs=10, batch_size=50, verbose=0)"
   ]
  },
  {
   "cell_type": "code",
   "execution_count": 60,
   "id": "4db69d0c-5ba8-4246-955b-396c58c2dd6b",
   "metadata": {},
   "outputs": [
    {
     "name": "stdout",
     "output_type": "stream",
     "text": [
      "3/3 [==============================] - 0s 3ms/step - loss: 0.0048\n"
     ]
    }
   ],
   "source": [
    "test_error = model.evaluate(x_test,y_test, verbose = 1)"
   ]
  },
  {
   "cell_type": "code",
   "execution_count": 61,
   "id": "3871e78a-f235-4afb-b94d-000d5710bb23",
   "metadata": {},
   "outputs": [
    {
     "data": {
      "text/plain": [
       "0.004791552666574717"
      ]
     },
     "execution_count": 61,
     "metadata": {},
     "output_type": "execute_result"
    }
   ],
   "source": [
    "test_error"
   ]
  },
  {
   "cell_type": "code",
   "execution_count": 64,
   "id": "14c94c77-8a75-4422-8b71-f4318a690fac",
   "metadata": {},
   "outputs": [
    {
     "name": "stdout",
     "output_type": "stream",
     "text": [
      "Accuracy: 0.48%\n"
     ]
    }
   ],
   "source": [
    "print(\"Accuracy: %.2f%%\" % (test_error*100))"
   ]
  },
  {
   "cell_type": "code",
   "execution_count": 7,
   "id": "8980d323-4554-4a7d-837c-61c26c04e4c1",
   "metadata": {},
   "outputs": [],
   "source": [
    "y_pred = model.predict(x_test, verbose = 0)"
   ]
  },
  {
   "cell_type": "code",
   "execution_count": 13,
   "id": "78197d51-7332-46c9-b6c6-99ba78977932",
   "metadata": {},
   "outputs": [
    {
     "name": "stdout",
     "output_type": "stream",
     "text": [
      "18.30 %\n"
     ]
    }
   ],
   "source": [
    "error_percent = (1 - r2_score(y_test, y_pred))*100\n",
    "print('{0:.2f} %'.format(error_percent))"
   ]
  },
  {
   "cell_type": "code",
   "execution_count": 15,
   "id": "ed5bd625-dfa7-4eb2-9d1c-b35a6d0d2de0",
   "metadata": {},
   "outputs": [],
   "source": [
    "smape = symmetric_mean_absolute_percentage_error(y_test, y_pred)"
   ]
  },
  {
   "cell_type": "code",
   "execution_count": 16,
   "id": "4d9f5e6e-4336-4f2b-8111-b98eadddcca9",
   "metadata": {},
   "outputs": [
    {
     "name": "stdout",
     "output_type": "stream",
     "text": [
      "18.52 %\n"
     ]
    }
   ],
   "source": [
    "print('{0:.2f} %'.format(smape))"
   ]
  },
  {
   "cell_type": "code",
   "execution_count": 17,
   "id": "2469fc4f-c03f-46de-b5e0-ba4ba4a6c8eb",
   "metadata": {},
   "outputs": [
    {
     "data": {
      "text/plain": [
       "0.22110564712278646"
      ]
     },
     "execution_count": 17,
     "metadata": {},
     "output_type": "execute_result"
    }
   ],
   "source": [
    "mape(y_test, y_pred)"
   ]
  },
  {
   "cell_type": "code",
   "execution_count": 2,
   "id": "ed92ff43-af63-4f7d-a39f-553222100dea",
   "metadata": {},
   "outputs": [],
   "source": [
    "from keras.models import load_model\n",
    "import os"
   ]
  },
  {
   "cell_type": "code",
   "execution_count": 10,
   "id": "09302619-3618-4e48-bf33-233892057545",
   "metadata": {},
   "outputs": [],
   "source": [
    "new_model = load_model('Models/HINDUNILVR_model.h5')\n",
    "new_model_2 = load_model('Models/ITC_model.h5')"
   ]
  },
  {
   "cell_type": "code",
   "execution_count": 9,
   "id": "bbfe0b18-9d42-4dc6-aee1-4703a5c8a4dc",
   "metadata": {},
   "outputs": [
    {
     "name": "stdout",
     "output_type": "stream",
     "text": [
      "Model: \"sequential_66\"\n",
      "_________________________________________________________________\n",
      " Layer (type)                Output Shape              Param #   \n",
      "=================================================================\n",
      " bidirectional_17 (Bidirecti  (None, 14)               504       \n",
      " onal)                                                           \n",
      "                                                                 \n",
      " dense_83 (Dense)            (None, 7)                 105       \n",
      "                                                                 \n",
      " dense_84 (Dense)            (None, 1)                 8         \n",
      "                                                                 \n",
      "=================================================================\n",
      "Total params: 617\n",
      "Trainable params: 617\n",
      "Non-trainable params: 0\n",
      "_________________________________________________________________\n"
     ]
    }
   ],
   "source": [
    "new_model.summary()"
   ]
  },
  {
   "cell_type": "code",
   "execution_count": 11,
   "id": "b8e4ee11-69b0-4615-b4d3-91c2b5e0aaa5",
   "metadata": {},
   "outputs": [
    {
     "name": "stdout",
     "output_type": "stream",
     "text": [
      "Model: \"sequential_65\"\n",
      "_________________________________________________________________\n",
      " Layer (type)                Output Shape              Param #   \n",
      "=================================================================\n",
      " bidirectional_16 (Bidirecti  (None, 14)               616       \n",
      " onal)                                                           \n",
      "                                                                 \n",
      " dense_81 (Dense)            (None, 7)                 105       \n",
      "                                                                 \n",
      " dense_82 (Dense)            (None, 1)                 8         \n",
      "                                                                 \n",
      "=================================================================\n",
      "Total params: 729\n",
      "Trainable params: 729\n",
      "Non-trainable params: 0\n",
      "_________________________________________________________________\n"
     ]
    }
   ],
   "source": [
    "new_model_2.summary()"
   ]
  }
 ],
 "metadata": {
  "kernelspec": {
   "display_name": "ml_dl_310:Python",
   "language": "python",
   "name": "conda-env-ml_dl_310-py"
  },
  "language_info": {
   "codemirror_mode": {
    "name": "ipython",
    "version": 3
   },
   "file_extension": ".py",
   "mimetype": "text/x-python",
   "name": "python",
   "nbconvert_exporter": "python",
   "pygments_lexer": "ipython3",
   "version": "3.10.9"
  }
 },
 "nbformat": 4,
 "nbformat_minor": 5
}
