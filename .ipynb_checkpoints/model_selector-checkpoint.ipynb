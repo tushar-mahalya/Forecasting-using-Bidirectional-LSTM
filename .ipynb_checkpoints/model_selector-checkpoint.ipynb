{
 "cells": [
  {
   "cell_type": "markdown",
   "metadata": {},
   "source": [
    "[![Open In Studio Lab](https://studiolab.sagemaker.aws/studiolab.svg)](https://studiolab.sagemaker.aws/import/github/tushar-mahalya/Forecasting-using-Bidirectional-LSTM/blob/master/model_selector.ipynb)"
   ]
  },
  {
   "cell_type": "code",
   "execution_count": 1,
   "metadata": {
    "id": "wRbQKHs-wCqS"
   },
   "outputs": [],
   "source": [
    "# Importing important pakages\n",
    "import os\n",
    "import json\n",
    "import numpy as np\n",
    "import pandas as pd\n",
    "from collections import OrderedDict\n",
    "from termcolor import colored as color\n",
    "\n",
    "# Importing TF.keras packages\n",
    "from keras.models import Sequential\n",
    "from keras.optimizers import RMSprop\n",
    "from keras.layers import Dense, LSTM, Dropout, Bidirectional\n",
    "\n",
    "# To avoid irrelevent warning messages\n",
    "os.environ['TF_CPP_MIN_LOG_LEVEL'] = '3'"
   ]
  },
  {
   "cell_type": "code",
   "execution_count": 2,
   "metadata": {
    "id": "ej1tIDl5y_Y2",
    "tags": []
   },
   "outputs": [],
   "source": [
    "# Yahoo Finance API\n",
    "import yfinance\n",
    "\n",
    "# Function to download stock data (univariate or multivariate)\n",
    "from Data_Downloader import data_accumilator"
   ]
  },
  {
   "cell_type": "code",
   "execution_count": 3,
   "metadata": {
    "id": "pgBR7cRdHgsf"
   },
   "outputs": [
    {
     "data": {
      "text/plain": [
       "[('Fixed', <function Models.simple_model(X, y, learn_rate)>),\n",
       " ('Dynamic', <function Models.dynamic_model(X, y, learn_rate)>),\n",
       " ('Bidirectional', <function Models.bidirectional_model(X, y, learn_rate)>),\n",
       " ('Stacked', <function Models.stacked_model(X, y, learn_rate)>)]"
      ]
     },
     "execution_count": 3,
     "metadata": {},
     "output_type": "execute_result"
    }
   ],
   "source": [
    "# Importing custom defined models into local runtime\n",
    "from Models import models\n",
    "my_models = models()\n",
    "my_models"
   ]
  },
  {
   "cell_type": "code",
   "execution_count": 4,
   "metadata": {
    "id": "zauXK0MrzGum"
   },
   "outputs": [
    {
     "data": {
      "text/html": [
       "<div>\n",
       "<style scoped>\n",
       "    .dataframe tbody tr th:only-of-type {\n",
       "        vertical-align: middle;\n",
       "    }\n",
       "\n",
       "    .dataframe tbody tr th {\n",
       "        vertical-align: top;\n",
       "    }\n",
       "\n",
       "    .dataframe thead th {\n",
       "        text-align: right;\n",
       "    }\n",
       "</style>\n",
       "<table border=\"1\" class=\"dataframe\">\n",
       "  <thead>\n",
       "    <tr style=\"text-align: right;\">\n",
       "      <th></th>\n",
       "      <th>Company Name</th>\n",
       "      <th>Industry</th>\n",
       "      <th>Symbol</th>\n",
       "      <th>Series</th>\n",
       "      <th>ISIN Code</th>\n",
       "    </tr>\n",
       "  </thead>\n",
       "  <tbody>\n",
       "    <tr>\n",
       "      <th>0</th>\n",
       "      <td>Adani Enterprises Ltd.</td>\n",
       "      <td>Metals &amp; Mining</td>\n",
       "      <td>ADANIENT</td>\n",
       "      <td>EQ</td>\n",
       "      <td>INE423A01024</td>\n",
       "    </tr>\n",
       "    <tr>\n",
       "      <th>1</th>\n",
       "      <td>Adani Ports and Special Economic Zone Ltd.</td>\n",
       "      <td>Services</td>\n",
       "      <td>ADANIPORTS</td>\n",
       "      <td>EQ</td>\n",
       "      <td>INE742F01042</td>\n",
       "    </tr>\n",
       "    <tr>\n",
       "      <th>2</th>\n",
       "      <td>Apollo Hospitals Enterprise Ltd.</td>\n",
       "      <td>Healthcare</td>\n",
       "      <td>APOLLOHOSP</td>\n",
       "      <td>EQ</td>\n",
       "      <td>INE437A01024</td>\n",
       "    </tr>\n",
       "    <tr>\n",
       "      <th>3</th>\n",
       "      <td>Asian Paints Ltd.</td>\n",
       "      <td>Consumer Durables</td>\n",
       "      <td>ASIANPAINT</td>\n",
       "      <td>EQ</td>\n",
       "      <td>INE021A01026</td>\n",
       "    </tr>\n",
       "    <tr>\n",
       "      <th>4</th>\n",
       "      <td>Axis Bank Ltd.</td>\n",
       "      <td>Financial Services</td>\n",
       "      <td>AXISBANK</td>\n",
       "      <td>EQ</td>\n",
       "      <td>INE238A01034</td>\n",
       "    </tr>\n",
       "  </tbody>\n",
       "</table>\n",
       "</div>"
      ],
      "text/plain": [
       "                                 Company Name            Industry      Symbol  \\\n",
       "0                      Adani Enterprises Ltd.     Metals & Mining    ADANIENT   \n",
       "1  Adani Ports and Special Economic Zone Ltd.            Services  ADANIPORTS   \n",
       "2            Apollo Hospitals Enterprise Ltd.          Healthcare  APOLLOHOSP   \n",
       "3                           Asian Paints Ltd.   Consumer Durables  ASIANPAINT   \n",
       "4                              Axis Bank Ltd.  Financial Services    AXISBANK   \n",
       "\n",
       "  Series     ISIN Code  \n",
       "0     EQ  INE423A01024  \n",
       "1     EQ  INE742F01042  \n",
       "2     EQ  INE437A01024  \n",
       "3     EQ  INE021A01026  \n",
       "4     EQ  INE238A01034  "
      ]
     },
     "execution_count": 4,
     "metadata": {},
     "output_type": "execute_result"
    }
   ],
   "source": [
    "# Nifty50 stocks indormation\n",
    "nifty50 = pd.read_csv('nifty50.csv')\n",
    "nifty50.head()"
   ]
  },
  {
   "cell_type": "code",
   "execution_count": 5,
   "metadata": {
    "colab": {
     "base_uri": "https://localhost:8080/"
    },
    "id": "SgZ5wXd0zGq5",
    "outputId": "44f2ee60-16e8-44a9-b3f5-a85071b92fb8"
   },
   "outputs": [
    {
     "name": "stdout",
     "output_type": "stream",
     "text": [
      "Directory named \"Stocks Data\" with required data is downloaded successfully at \"/home/studio-lab-user/sagemaker-studiolab-notebooks/Forecasting-using-Bidirectional-LSTM\"\n"
     ]
    }
   ],
   "source": [
    "# Get the current working directory (cwd)\n",
    "cwd = os.getcwd()\n",
    "\n",
    "# Downloading Nifty50 stocks data in Current working directory\n",
    "preprocessed_data = data_accumilator(cwd, nifty50['Symbol'].sample(2))"
   ]
  },
  {
   "cell_type": "code",
   "execution_count": 36,
   "metadata": {
    "colab": {
     "base_uri": "https://localhost:8080/"
    },
    "id": "axN0pSWuQxbb",
    "outputId": "029e9aaf-3a82-44e5-9177-f3aea0abb433"
   },
   "outputs": [
    {
     "data": {
      "text/plain": [
       "{'ADANIENT': '/home/studio-lab-user/sagemaker-studiolab-notebooks/Forecasting-using-Bidirectional-LSTM/Stocks Data/ADANIENT/Normalized_ADANIENT.csv',\n",
       " 'ADANIPORTS': '/home/studio-lab-user/sagemaker-studiolab-notebooks/Forecasting-using-Bidirectional-LSTM/Stocks Data/ADANIPORTS/Normalized_ADANIPORTS.csv',\n",
       " 'APOLLOHOSP': '/home/studio-lab-user/sagemaker-studiolab-notebooks/Forecasting-using-Bidirectional-LSTM/Stocks Data/APOLLOHOSP/Normalized_APOLLOHOSP.csv',\n",
       " 'ASIANPAINT': '/home/studio-lab-user/sagemaker-studiolab-notebooks/Forecasting-using-Bidirectional-LSTM/Stocks Data/ASIANPAINT/Normalized_ASIANPAINT.csv',\n",
       " 'AXISBANK': '/home/studio-lab-user/sagemaker-studiolab-notebooks/Forecasting-using-Bidirectional-LSTM/Stocks Data/AXISBANK/Normalized_AXISBANK.csv'}"
      ]
     },
     "execution_count": 36,
     "metadata": {},
     "output_type": "execute_result"
    }
   ],
   "source": [
    "# Dictionary with stock ticker(key) and location of \n",
    "# normalized data of that stock (value)\n",
    "dict(list(preprocessed_data.items())[:5])  # First 5 elements0"
   ]
  },
  {
   "cell_type": "code",
   "execution_count": 6,
   "metadata": {
    "id": "FOYjN5sqPZQ1"
   },
   "outputs": [],
   "source": [
    "# Importing data initializing function\n",
    "from Data_Initializer import train_test_data"
   ]
  },
  {
   "cell_type": "code",
   "execution_count": 35,
   "metadata": {},
   "outputs": [],
   "source": [
    "def test_models(data_dict, epochs: int, models: dict, window_sizes: list, multi_seq:bool = False):\n",
    "    #test result data\n",
    "    parameter_dict = OrderedDict()\n",
    "    for ticker in data_dict.keys():\n",
    "        \n",
    "        win_size = {}\n",
    "        print(color(f'\\n================================ NSE : {ticker} ================================', 'red', attrs = [\"bold\"]))\n",
    "        for window_size in window_sizes:\n",
    "            \n",
    "            model_name = {}\n",
    "            print(color(f\"\\nWindow size: {window_size}\", 'cyan'))\n",
    "            print(color('----------------', 'yellow'))\n",
    "            for model_item in models:\n",
    "                \n",
    "                data = pd.read_csv(data_dict[ticker])\n",
    "                X_train,y_train,X_test,y_test = train_test_data(data, split_size = 0.2, window_size = window_size, multi_seq = multi_seq)\n",
    "                model = model_item[1](X_train,y_train,0.001)\n",
    "                \n",
    "                # fitting model\n",
    "                model.fit(X_train, y_train, epochs=epochs, batch_size=50, verbose=0)\n",
    "\n",
    "                # printing training and testing errors\n",
    "                training_error = model.evaluate(X_train, y_train, verbose=0)\n",
    "                testing_error = model.evaluate(X_test, y_test, verbose=0)\n",
    "                msg = color(\"  >\",'green') + \" Model: {0:<15} Param count: {1:} \\tTraining error: {2:.4f}\\tTesting error: {3:.4f}\"\n",
    "                print(msg.format(model_item[0],model.count_params(),training_error,testing_error))\n",
    "                \n",
    "                model_name[model_item[0]] = {\n",
    "                                             'Param Count' : model.count_params(),\n",
    "                                             'Training Error' : float(\"{0:.4f}\".format(training_error)),\n",
    "                                             'Testing Error' : float(\"{0:.4f}\".format( testing_error))\n",
    "                                            }\n",
    "            \n",
    "            win_size[f'Window_Size_{window_size}'] = model_name\n",
    "        \n",
    "        parameter_dict[ticker] = win_size\n",
    "        \n",
    "    # Exporting performance of different models in .json format\n",
    "    os.mkdir('Performance Parameters')\n",
    "    if multi_seq:\n",
    "        with open(\"Performance Parameters/multivariate.json\", \"w\") as f:\n",
    "            json.dump(parameter_dict, f)\n",
    "            f.close()\n",
    "    else:\n",
    "        with open(\"Performance Parameters/univariate.json\", \"w\") as f:\n",
    "            json.dump(parameter_dict, f)\n",
    "            f.close()\n",
    "            \n",
    "    print(color('\\nSuccesfully Evaluated different models and saved the performance metrics in \\'Performance Parameters\\' directory.', 'magenta'))\n",
    "        \n",
    "    return parameter_dict"
   ]
  },
  {
   "cell_type": "code",
   "execution_count": 48,
   "metadata": {},
   "outputs": [
    {
     "name": "stdout",
     "output_type": "stream",
     "text": [
      "\u001b[32m\n",
      "--------------------------------------------------------------- \u001b[0m\u001b[4m\u001b[32mSimple Sequence\u001b[0m\n"
     ]
    }
   ],
   "source": [
    "print(color('\\n--------------------------------------------------------------- ', 'green') + color('Simple Sequence' , 'green', attrs = ['underline']))"
   ]
  },
  {
   "cell_type": "code",
   "execution_count": 38,
   "metadata": {
    "colab": {
     "base_uri": "https://localhost:8080/"
    },
    "id": "Kf6B1fDo3-8E",
    "outputId": "01b23fad-4426-4ffa-acfa-6edd0291c895"
   },
   "outputs": [
    {
     "name": "stdout",
     "output_type": "stream",
     "text": [
      "\u001b[1m\u001b[31m\n",
      "================================ NSE : ADANIENT ================================\u001b[0m\n",
      "\u001b[36m\n",
      "Window size: 7\u001b[0m\n",
      "\u001b[33m----------------\u001b[0m\n",
      "\u001b[32m  >\u001b[0m Model: Fixed           Param count: 186 \tTraining error: 0.0008\tTesting error: 0.1474\n",
      "\u001b[32m  >\u001b[0m Model: Dynamic         Param count: 316 \tTraining error: 0.0008\tTesting error: 0.1581\n",
      "\u001b[32m  >\u001b[0m Model: Bidirectional   Param count: 729 \tTraining error: 0.0008\tTesting error: 0.1339\n",
      "\u001b[32m  >\u001b[0m Model: Stacked         Param count: 886 \tTraining error: 0.0009\tTesting error: 0.1679\n",
      "\u001b[36m\n",
      "Window size: 10\u001b[0m\n",
      "\u001b[33m----------------\u001b[0m\n",
      "\u001b[32m  >\u001b[0m Model: Fixed           Param count: 186 \tTraining error: 0.0007\tTesting error: 0.1111\n",
      "\u001b[32m  >\u001b[0m Model: Dynamic         Param count: 571 \tTraining error: 0.0008\tTesting error: 0.1416\n",
      "\u001b[32m  >\u001b[0m Model: Bidirectional   Param count: 1341 \tTraining error: 0.0006\tTesting error: 0.0596\n",
      "\u001b[32m  >\u001b[0m Model: Stacked         Param count: 886 \tTraining error: 0.0011\tTesting error: 0.1572\n",
      "\u001b[35mSuccesfully Evaluated different models and saved the performance metrics in 'Performance Parameters' directory.\u001b[0m\n",
      "\u001b[1m\u001b[31m\n",
      "================================ NSE : ADANIPORTS ================================\u001b[0m\n",
      "\u001b[36m\n",
      "Window size: 7\u001b[0m\n",
      "\u001b[33m----------------\u001b[0m\n",
      "\u001b[32m  >\u001b[0m Model: Fixed           Param count: 186 \tTraining error: 0.0052\tTesting error: 0.0224\n",
      "\u001b[32m  >\u001b[0m Model: Dynamic         Param count: 316 \tTraining error: 0.0051\tTesting error: 0.0213\n",
      "\u001b[32m  >\u001b[0m Model: Bidirectional   Param count: 729 \tTraining error: 0.0050\tTesting error: 0.0228\n",
      "\u001b[32m  >\u001b[0m Model: Stacked         Param count: 886 \tTraining error: 0.0051\tTesting error: 0.0199\n",
      "\u001b[36m\n",
      "Window size: 10\u001b[0m\n",
      "\u001b[33m----------------\u001b[0m\n",
      "\u001b[32m  >\u001b[0m Model: Fixed           Param count: 186 \tTraining error: 0.0051\tTesting error: 0.0319\n",
      "\u001b[32m  >\u001b[0m Model: Dynamic         Param count: 571 \tTraining error: 0.0051\tTesting error: 0.0175\n",
      "\u001b[32m  >\u001b[0m Model: Bidirectional   Param count: 1341 \tTraining error: 0.0052\tTesting error: 0.0217\n",
      "\u001b[32m  >\u001b[0m Model: Stacked         Param count: 886 \tTraining error: 0.0054\tTesting error: 0.0238\n"
     ]
    },
    {
     "ename": "FileExistsError",
     "evalue": "[Errno 17] File exists: 'Performance Parameters'",
     "output_type": "error",
     "traceback": [
      "\u001b[0;31m---------------------------------------------------------------------------\u001b[0m",
      "\u001b[0;31mFileExistsError\u001b[0m                           Traceback (most recent call last)",
      "Cell \u001b[0;32mIn[38], line 1\u001b[0m\n\u001b[0;32m----> 1\u001b[0m res \u001b[38;5;241m=\u001b[39m \u001b[43mtest_models\u001b[49m\u001b[43m(\u001b[49m\u001b[38;5;28;43mdict\u001b[39;49m\u001b[43m(\u001b[49m\u001b[38;5;28;43mlist\u001b[39;49m\u001b[43m(\u001b[49m\u001b[43mpreprocessed_data\u001b[49m\u001b[38;5;241;43m.\u001b[39;49m\u001b[43mitems\u001b[49m\u001b[43m(\u001b[49m\u001b[43m)\u001b[49m\u001b[43m)\u001b[49m\u001b[43m[\u001b[49m\u001b[43m:\u001b[49m\u001b[38;5;241;43m2\u001b[39;49m\u001b[43m]\u001b[49m\u001b[43m)\u001b[49m\u001b[43m \u001b[49m\u001b[43m,\u001b[49m\u001b[43m \u001b[49m\u001b[38;5;241;43m100\u001b[39;49m\u001b[43m,\u001b[49m\u001b[43m \u001b[49m\u001b[43mmy_models\u001b[49m\u001b[43m,\u001b[49m\u001b[43m \u001b[49m\u001b[43mwindow_sizes\u001b[49m\u001b[38;5;241;43m=\u001b[39;49m\u001b[43m[\u001b[49m\u001b[38;5;241;43m7\u001b[39;49m\u001b[43m,\u001b[49m\u001b[38;5;241;43m10\u001b[39;49m\u001b[43m]\u001b[49m\u001b[43m,\u001b[49m\u001b[43m \u001b[49m\u001b[43mmulti_seq\u001b[49m\u001b[38;5;241;43m=\u001b[39;49m\u001b[38;5;28;43;01mTrue\u001b[39;49;00m\u001b[43m)\u001b[49m\n",
      "Cell \u001b[0;32mIn[35], line 39\u001b[0m, in \u001b[0;36mtest_models\u001b[0;34m(data_dict, epochs, models, window_sizes, multi_seq)\u001b[0m\n\u001b[1;32m     36\u001b[0m parameter_dict[ticker] \u001b[38;5;241m=\u001b[39m win_size\n\u001b[1;32m     38\u001b[0m \u001b[38;5;66;03m# Exporting performance of different models in .json format\u001b[39;00m\n\u001b[0;32m---> 39\u001b[0m \u001b[43mos\u001b[49m\u001b[38;5;241;43m.\u001b[39;49m\u001b[43mmkdir\u001b[49m\u001b[43m(\u001b[49m\u001b[38;5;124;43m'\u001b[39;49m\u001b[38;5;124;43mPerformance Parameters\u001b[39;49m\u001b[38;5;124;43m'\u001b[39;49m\u001b[43m)\u001b[49m\n\u001b[1;32m     40\u001b[0m \u001b[38;5;28;01mif\u001b[39;00m multi_seq:\n\u001b[1;32m     41\u001b[0m     \u001b[38;5;28;01mwith\u001b[39;00m \u001b[38;5;28mopen\u001b[39m(\u001b[38;5;124m\"\u001b[39m\u001b[38;5;124mPerformance Parameters/multivariate.json\u001b[39m\u001b[38;5;124m\"\u001b[39m, \u001b[38;5;124m\"\u001b[39m\u001b[38;5;124mw\u001b[39m\u001b[38;5;124m\"\u001b[39m) \u001b[38;5;28;01mas\u001b[39;00m f:\n",
      "\u001b[0;31mFileExistsError\u001b[0m: [Errno 17] File exists: 'Performance Parameters'"
     ]
    }
   ],
   "source": [
    "res = test_models(dict(list(preprocessed_data.items())[:2]) , 100, my_models, window_sizes=[7,10], multi_seq=True)"
   ]
  },
  {
   "cell_type": "code",
   "execution_count": 13,
   "metadata": {
    "colab": {
     "base_uri": "https://localhost:8080/"
    },
    "id": "Kf6B1fDo3-8E",
    "outputId": "01b23fad-4426-4ffa-acfa-6edd0291c895"
   },
   "outputs": [
    {
     "name": "stdout",
     "output_type": "stream",
     "text": [
      "\u001b[1m\u001b[31m\n",
      "================================ NSE : BRITANNIA ================================\u001b[0m\n",
      "\u001b[32m\n",
      "--------------------------------------------------------------- \u001b[0m\u001b[32mSimple Sequence\u001b[0m\n",
      "\u001b[34m\n",
      "Window size : 7\u001b[0m\n",
      "\u001b[33m----------------\u001b[0m\n",
      "\u001b[32m  >\u001b[0m Model: Fixed           Param count: 146 \tTraining error: 0.0239\tTesting error: 0.1061\n",
      "\u001b[32m  >\u001b[0m Model: Dynamic         Param count: 260 \tTraining error: 0.0910\tTesting error: 0.2291\n",
      "\u001b[32m  >\u001b[0m Model: Bidirectional   Param count: 617 \tTraining error: 0.0335\tTesting error: 0.2477\n",
      "\u001b[32m  >\u001b[0m Model: Stacked         Param count: 806 \tTraining error: 0.1273\tTesting error: 0.2754\n",
      "\u001b[32m\n",
      "--------------------------------------------------------------- \u001b[0m\u001b[32mMulti Sequence\u001b[0m\n",
      "\u001b[34m\n",
      "Window size : 7\u001b[0m\n",
      "\u001b[33m----------------\u001b[0m\n",
      "\u001b[32m  >\u001b[0m Model: Fixed           Param count: 186 \tTraining error: 0.1544\tTesting error: 0.1949\n",
      "\u001b[32m  >\u001b[0m Model: Dynamic         Param count: 316 \tTraining error: 0.0639\tTesting error: 0.1410\n",
      "\u001b[32m  >\u001b[0m Model: Bidirectional   Param count: 729 \tTraining error: 0.1352\tTesting error: 0.3018\n",
      "\u001b[32m  >\u001b[0m Model: Stacked         Param count: 886 \tTraining error: 0.0820\tTesting error: 0.2127\n",
      "\u001b[1m\u001b[31m\n",
      "================================ NSE : JSWSTEEL ================================\u001b[0m\n",
      "\u001b[32m\n",
      "--------------------------------------------------------------- \u001b[0m\u001b[32mSimple Sequence\u001b[0m\n",
      "\u001b[34m\n",
      "Window size : 7\u001b[0m\n",
      "\u001b[33m----------------\u001b[0m\n",
      "\u001b[32m  >\u001b[0m Model: Fixed           Param count: 146 \tTraining error: 0.1998\tTesting error: 0.4354\n",
      "\u001b[32m  >\u001b[0m Model: Dynamic         Param count: 260 \tTraining error: 0.1163\tTesting error: 0.2569\n",
      "\u001b[32m  >\u001b[0m Model: Bidirectional   Param count: 617 \tTraining error: 0.0255\tTesting error: 0.0609\n",
      "\u001b[32m  >\u001b[0m Model: Stacked         Param count: 806 \tTraining error: 0.1038\tTesting error: 0.1896\n",
      "\u001b[32m\n",
      "--------------------------------------------------------------- \u001b[0m\u001b[32mMulti Sequence\u001b[0m\n",
      "\u001b[34m\n",
      "Window size : 7\u001b[0m\n",
      "\u001b[33m----------------\u001b[0m\n",
      "\u001b[32m  >\u001b[0m Model: Fixed           Param count: 186 \tTraining error: 0.2060\tTesting error: 0.4373\n",
      "\u001b[32m  >\u001b[0m Model: Dynamic         Param count: 316 \tTraining error: 0.0528\tTesting error: 0.1192\n",
      "\u001b[32m  >\u001b[0m Model: Bidirectional   Param count: 729 \tTraining error: 0.0574\tTesting error: 0.1623\n",
      "\u001b[32m  >\u001b[0m Model: Stacked         Param count: 886 \tTraining error: 0.1426\tTesting error: 0.3109\n",
      "\u001b[35m\n",
      "Succesfully Evaluated different models and saved all logs and best model performance metrics in 'Model Performance' directory.\u001b[0m\n"
     ]
    }
   ],
   "source": [
    "res = test_models_dumdum(preprocessed_data, 2, my_models, window_sizes=[7])"
   ]
  },
  {
   "cell_type": "code",
   "execution_count": 12,
   "metadata": {},
   "outputs": [],
   "source": [
    "def test_models_dumdum(data_dict, epochs: int, models: dict, window_sizes: list):\n",
    "    \n",
    "    #test result data\n",
    "    best_params = OrderedDict()\n",
    "    parameter_dict = OrderedDict()\n",
    "    sequences = ['Simple', 'Multi']\n",
    "    for ticker in data_dict.keys():\n",
    "        \n",
    "        lowest_train_error = float()\n",
    "        lowest_test_error = float()\n",
    "        best_model = str()\n",
    "        best_model_param_count = int()\n",
    "        best_window_size = int()\n",
    "        best_seq = str()\n",
    "        \n",
    "        seq_type = {}\n",
    "        print(color(f'\\n================================ NSE : {ticker} ================================', 'red', attrs = [\"bold\"]))\n",
    "        for seq in sequences:\n",
    "            print(color('\\n--------------------------------------------------------------- ', 'green') + color(f'{seq} Sequence' , 'green'))\n",
    "            \n",
    "            win_size = {}\n",
    "            for window_size in window_sizes:\n",
    "\n",
    "                model_name = {}\n",
    "                print(color(f\"\\nWindow size : {window_size}\", 'blue'))\n",
    "                print(color('----------------', 'yellow'))\n",
    "                for model_item in models:\n",
    "\n",
    "                    data = pd.read_csv(data_dict[ticker])\n",
    "                    X_train,y_train,X_test,y_test = train_test_data(data, split_size = 0.2, window_size = window_size, seq = seq)\n",
    "                    model = model_item[1](X_train,y_train,0.001)\n",
    "\n",
    "                    # fitting model\n",
    "                    model.fit(X_train, y_train, epochs=epochs, batch_size=50, verbose=0)\n",
    "\n",
    "                    # printing training and testing errors\n",
    "                    training_error = model.evaluate(X_train, y_train, verbose=0)\n",
    "                    testing_error = model.evaluate(X_test, y_test, verbose=0)\n",
    "                    msg = color(\"  >\",'green') + \" Model: {0:<15} Param count: {1:} \\tTraining error: {2:.4f}\\tTesting error: {3:.4f}\"\n",
    "                    print(msg.format(model_item[0],model.count_params(),training_error,testing_error))\n",
    "\n",
    "                    model_name[model_item[0]] = {\n",
    "                                                 'Param Count' : model.count_params(),\n",
    "                                                 'Training Error' : float(\"{0:.4f}\".format(training_error)),\n",
    "                                                 'Testing Error' : float(\"{0:.4f}\".format( testing_error))\n",
    "                                                }\n",
    "                    \n",
    "                    if (lowest_test_error > testing_error):\n",
    "                        lowest_train_error = training_error\n",
    "                        lowest_test_error = testing_error\n",
    "                        best_model = model_item[0]\n",
    "                        best_model_param_count = model.count_params()\n",
    "                        best_window_size = window_size\n",
    "                        best_seq = seq\n",
    "                        \n",
    "                win_size[f'Window_Size_{window_size}'] = model_name\n",
    "                \n",
    "            seq_type[f'{seq} Sequence'] = win_size\n",
    "        \n",
    "        parameter_dict[ticker] = seq_type\n",
    "        best_params[ticker] = {\n",
    "                               'Best Model' : best_model,\n",
    "                               'Window Size' : best_window_size,\n",
    "                               'Sequence' : best_seq,\n",
    "                               'Training Error' : lowest_train_error,\n",
    "                               'Testing Error' : lowest_test_error,\n",
    "                               'Learning Rate' : 0.001,\n",
    "                               'Parameters Count' : best_model_param_count\n",
    "                              }\n",
    "        \n",
    "    # Exporting performance of different models and best parameters dict in .json format\n",
    "    cwd = os.getcwd()\n",
    "    if os.path.isdir(os.path.join(cwd, 'Model Performance')):\n",
    "        print(\"Required data/directory is already present in current working directory.\")\n",
    "    \n",
    "    else:\n",
    "        os.mkdir('Model Performance')\n",
    "        with open(\"Model Performance/Performance_Params.json\", \"w\") as f:\n",
    "            json.dump(parameter_dict, f)\n",
    "            f.close()\n",
    "        with open(\"Model Performance/Best_Model_Params.json\", \"w\") as f:\n",
    "            json.dump(best_params, f)\n",
    "            f.close()\n",
    "   \n",
    "            \n",
    "    print(color('\\nSuccesfully Evaluated different models and saved all logs and best model performance metrics in \\'Model Performance\\' directory.', 'magenta'))\n",
    "        \n",
    "    return parameter_dict"
   ]
  },
  {
   "cell_type": "code",
   "execution_count": 64,
   "metadata": {},
   "outputs": [],
   "source": [
    "os.mkdir('chutiya')"
   ]
  },
  {
   "cell_type": "code",
   "execution_count": 33,
   "metadata": {},
   "outputs": [
    {
     "data": {
      "text/plain": [
       "{'Fixed': (186, 0.002, 0.0622),\n",
       " 'Dynamic': (571, 0.0017, 0.0338),\n",
       " 'Bidirectional': (1341, 0.0016, 0.0246),\n",
       " 'Stacked': (886, 0.002, 0.0643)}"
      ]
     },
     "execution_count": 33,
     "metadata": {},
     "output_type": "execute_result"
    }
   ],
   "source": [
    "res['ITC']['Window_Size_10']"
   ]
  }
 ],
 "metadata": {
  "accelerator": "GPU",
  "colab": {
   "provenance": []
  },
  "gpuClass": "standard",
  "kernelspec": {
   "display_name": "ml_dl_310:Python",
   "language": "python",
   "name": "conda-env-ml_dl_310-py"
  },
  "language_info": {
   "codemirror_mode": {
    "name": "ipython",
    "version": 3
   },
   "file_extension": ".py",
   "mimetype": "text/x-python",
   "name": "python",
   "nbconvert_exporter": "python",
   "pygments_lexer": "ipython3",
   "version": "3.10.9"
  }
 },
 "nbformat": 4,
 "nbformat_minor": 4
}
