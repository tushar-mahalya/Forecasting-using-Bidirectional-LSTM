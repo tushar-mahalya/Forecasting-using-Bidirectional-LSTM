{
 "cells": [
  {
   "cell_type": "markdown",
   "metadata": {},
   "source": [
    "[![Open In Studio Lab](https://studiolab.sagemaker.aws/studiolab.svg)](https://studiolab.sagemaker.aws/import/github/tushar-mahalya/Forecasting-using-Bidirectional-LSTM/blob/master/model_selector.ipynb)"
   ]
  },
  {
   "cell_type": "code",
   "execution_count": 1,
   "metadata": {
    "id": "wRbQKHs-wCqS"
   },
   "outputs": [
    {
     "name": "stderr",
     "output_type": "stream",
     "text": [
      "2023-04-06 05:48:32.327951: I tensorflow/core/platform/cpu_feature_guard.cc:193] This TensorFlow binary is optimized with oneAPI Deep Neural Network Library (oneDNN) to use the following CPU instructions in performance-critical operations:  SSE4.1 SSE4.2 AVX AVX2 AVX512F FMA\n",
      "To enable them in other operations, rebuild TensorFlow with the appropriate compiler flags.\n"
     ]
    }
   ],
   "source": [
    "# Importing important pakages\n",
    "import os\n",
    "import json\n",
    "import numpy as np\n",
    "import pandas as pd\n",
    "from tqdm import tqdm\n",
    "from collections import OrderedDict\n",
    "from termcolor import colored as color\n",
    "\n",
    "# Importing TF.keras packages\n",
    "from keras.models import Sequential\n",
    "from keras.optimizers import RMSprop\n",
    "from keras.layers import Dense, LSTM, Dropout, Bidirectional\n",
    "\n",
    "# To avoid irrelevent warning messages\n",
    "os.environ['TF_CPP_MIN_LOG_LEVEL'] = '3'"
   ]
  },
  {
   "cell_type": "code",
   "execution_count": 44,
   "metadata": {},
   "outputs": [
    {
     "name": "stderr",
     "output_type": "stream",
     "text": [
      "Modeling : 100%|██████████| 3/3 [00:00 < 00:00]"
     ]
    },
    {
     "name": "stdout",
     "output_type": "stream",
     "text": [
      "djfgg\n",
      "grred\n",
      "regvfgv\n"
     ]
    },
    {
     "name": "stderr",
     "output_type": "stream",
     "text": [
      "\n"
     ]
    }
   ],
   "source": [
    "my_list = ['djfgg','grred','regvfgv']\n",
    "\n",
    "# Wrap the list with tqdm\n",
    "for item in tqdm(my_list, desc=f\"Modeling \", unit=\"item\", position=0, leave=True, bar_format=\"{l_bar}{bar}| {n_fmt}/{total_fmt} [{elapsed} < {remaining}]\", smoothing=1):\n",
    "    # Do something with each item in the list\n",
    "    print(item)"
   ]
  },
  {
   "cell_type": "code",
   "execution_count": 41,
   "metadata": {},
   "outputs": [
    {
     "data": {
      "text/plain": [
       "list"
      ]
     },
     "execution_count": 41,
     "metadata": {},
     "output_type": "execute_result"
    }
   ],
   "source": [
    "tus = {\n",
    "    'me':3,\n",
    "    'ku':8\n",
    "}\n",
    "type(list(tus.keys()))"
   ]
  },
  {
   "cell_type": "code",
   "execution_count": 2,
   "metadata": {
    "id": "ej1tIDl5y_Y2",
    "tags": []
   },
   "outputs": [],
   "source": [
    "# Yahoo Finance API\n",
    "import yfinance\n",
    "\n",
    "# Function to download stock data (univariate or multivariate)\n",
    "from Data_Downloader import data_accumilator"
   ]
  },
  {
   "cell_type": "code",
   "execution_count": 3,
   "metadata": {
    "id": "pgBR7cRdHgsf"
   },
   "outputs": [
    {
     "data": {
      "text/plain": [
       "[('Fixed', <function Models.simple_model(X, y, learn_rate)>),\n",
       " ('Dynamic', <function Models.dynamic_model(X, y, learn_rate)>),\n",
       " ('Bidirectional', <function Models.bidirectional_model(X, y, learn_rate)>),\n",
       " ('Stacked', <function Models.stacked_model(X, y, learn_rate)>)]"
      ]
     },
     "execution_count": 3,
     "metadata": {},
     "output_type": "execute_result"
    }
   ],
   "source": [
    "# Importing custom defined models into local runtime\n",
    "from Models import models\n",
    "my_models = models()\n",
    "my_models"
   ]
  },
  {
   "cell_type": "code",
   "execution_count": 5,
   "metadata": {
    "id": "zauXK0MrzGum"
   },
   "outputs": [
    {
     "data": {
      "text/html": [
       "<div>\n",
       "<style scoped>\n",
       "    .dataframe tbody tr th:only-of-type {\n",
       "        vertical-align: middle;\n",
       "    }\n",
       "\n",
       "    .dataframe tbody tr th {\n",
       "        vertical-align: top;\n",
       "    }\n",
       "\n",
       "    .dataframe thead th {\n",
       "        text-align: right;\n",
       "    }\n",
       "</style>\n",
       "<table border=\"1\" class=\"dataframe\">\n",
       "  <thead>\n",
       "    <tr style=\"text-align: right;\">\n",
       "      <th></th>\n",
       "      <th>Company Name</th>\n",
       "      <th>Industry</th>\n",
       "      <th>Symbol</th>\n",
       "      <th>Series</th>\n",
       "      <th>ISIN Code</th>\n",
       "    </tr>\n",
       "  </thead>\n",
       "  <tbody>\n",
       "    <tr>\n",
       "      <th>0</th>\n",
       "      <td>Adani Enterprises Ltd.</td>\n",
       "      <td>Metals &amp; Mining</td>\n",
       "      <td>ADANIENT</td>\n",
       "      <td>EQ</td>\n",
       "      <td>INE423A01024</td>\n",
       "    </tr>\n",
       "    <tr>\n",
       "      <th>1</th>\n",
       "      <td>Adani Ports and Special Economic Zone Ltd.</td>\n",
       "      <td>Services</td>\n",
       "      <td>ADANIPORTS</td>\n",
       "      <td>EQ</td>\n",
       "      <td>INE742F01042</td>\n",
       "    </tr>\n",
       "    <tr>\n",
       "      <th>2</th>\n",
       "      <td>Apollo Hospitals Enterprise Ltd.</td>\n",
       "      <td>Healthcare</td>\n",
       "      <td>APOLLOHOSP</td>\n",
       "      <td>EQ</td>\n",
       "      <td>INE437A01024</td>\n",
       "    </tr>\n",
       "    <tr>\n",
       "      <th>3</th>\n",
       "      <td>Asian Paints Ltd.</td>\n",
       "      <td>Consumer Durables</td>\n",
       "      <td>ASIANPAINT</td>\n",
       "      <td>EQ</td>\n",
       "      <td>INE021A01026</td>\n",
       "    </tr>\n",
       "    <tr>\n",
       "      <th>4</th>\n",
       "      <td>Axis Bank Ltd.</td>\n",
       "      <td>Financial Services</td>\n",
       "      <td>AXISBANK</td>\n",
       "      <td>EQ</td>\n",
       "      <td>INE238A01034</td>\n",
       "    </tr>\n",
       "  </tbody>\n",
       "</table>\n",
       "</div>"
      ],
      "text/plain": [
       "                                 Company Name            Industry      Symbol  \\\n",
       "0                      Adani Enterprises Ltd.     Metals & Mining    ADANIENT   \n",
       "1  Adani Ports and Special Economic Zone Ltd.            Services  ADANIPORTS   \n",
       "2            Apollo Hospitals Enterprise Ltd.          Healthcare  APOLLOHOSP   \n",
       "3                           Asian Paints Ltd.   Consumer Durables  ASIANPAINT   \n",
       "4                              Axis Bank Ltd.  Financial Services    AXISBANK   \n",
       "\n",
       "  Series     ISIN Code  \n",
       "0     EQ  INE423A01024  \n",
       "1     EQ  INE742F01042  \n",
       "2     EQ  INE437A01024  \n",
       "3     EQ  INE021A01026  \n",
       "4     EQ  INE238A01034  "
      ]
     },
     "execution_count": 5,
     "metadata": {},
     "output_type": "execute_result"
    }
   ],
   "source": [
    "# Nifty50 stocks indormation\n",
    "nifty50 = pd.read_csv('nifty50.csv')\n",
    "nifty50.head()"
   ]
  },
  {
   "cell_type": "code",
   "execution_count": 8,
   "metadata": {
    "colab": {
     "base_uri": "https://localhost:8080/"
    },
    "id": "SgZ5wXd0zGq5",
    "outputId": "44f2ee60-16e8-44a9-b3f5-a85071b92fb8"
   },
   "outputs": [
    {
     "name": "stdout",
     "output_type": "stream",
     "text": [
      "Directory named \"Stocks Data\" with required data is downloaded successfully at \"/home/studio-lab-user/sagemaker-studiolab-notebooks/Forecasting-using-Bidirectional-LSTM\"\n"
     ]
    }
   ],
   "source": [
    "# Get the current working directory (cwd)\n",
    "cwd = os.getcwd()\n",
    "\n",
    "# Downloading Nifty50 stocks data in Current working directory\n",
    "preprocessed_data = data_accumilator(cwd, nifty50['Symbol'].sample(2))"
   ]
  },
  {
   "cell_type": "code",
   "execution_count": 36,
   "metadata": {
    "colab": {
     "base_uri": "https://localhost:8080/"
    },
    "id": "axN0pSWuQxbb",
    "outputId": "029e9aaf-3a82-44e5-9177-f3aea0abb433"
   },
   "outputs": [
    {
     "data": {
      "text/plain": [
       "{'ADANIENT': '/home/studio-lab-user/sagemaker-studiolab-notebooks/Forecasting-using-Bidirectional-LSTM/Stocks Data/ADANIENT/Normalized_ADANIENT.csv',\n",
       " 'ADANIPORTS': '/home/studio-lab-user/sagemaker-studiolab-notebooks/Forecasting-using-Bidirectional-LSTM/Stocks Data/ADANIPORTS/Normalized_ADANIPORTS.csv',\n",
       " 'APOLLOHOSP': '/home/studio-lab-user/sagemaker-studiolab-notebooks/Forecasting-using-Bidirectional-LSTM/Stocks Data/APOLLOHOSP/Normalized_APOLLOHOSP.csv',\n",
       " 'ASIANPAINT': '/home/studio-lab-user/sagemaker-studiolab-notebooks/Forecasting-using-Bidirectional-LSTM/Stocks Data/ASIANPAINT/Normalized_ASIANPAINT.csv',\n",
       " 'AXISBANK': '/home/studio-lab-user/sagemaker-studiolab-notebooks/Forecasting-using-Bidirectional-LSTM/Stocks Data/AXISBANK/Normalized_AXISBANK.csv'}"
      ]
     },
     "execution_count": 36,
     "metadata": {},
     "output_type": "execute_result"
    }
   ],
   "source": [
    "# Dictionary with stock ticker(key) and location of \n",
    "# normalized data of that stock (value)\n",
    "dict(list(preprocessed_data.items())[:5])  # First 5 elements"
   ]
  },
  {
   "cell_type": "code",
   "execution_count": 9,
   "metadata": {
    "id": "FOYjN5sqPZQ1"
   },
   "outputs": [],
   "source": [
    "# Importing data initializing function\n",
    "from Data_Initializer import train_test_data\n",
    "\n",
    "# Importing best model selector function\n",
    "from Model_Selector import test_models\n",
    "from Model_Selector import save_models as bud"
   ]
  },
  {
   "cell_type": "code",
   "execution_count": 10,
   "metadata": {
    "colab": {
     "base_uri": "https://localhost:8080/"
    },
    "id": "Kf6B1fDo3-8E",
    "outputId": "01b23fad-4426-4ffa-acfa-6edd0291c895"
   },
   "outputs": [
    {
     "name": "stdout",
     "output_type": "stream",
     "text": [
      "\u001b[1m\u001b[31m\n",
      "================================ NSE : ITC ================================\u001b[0m\n",
      "\u001b[32m\n",
      "--------------------------------------------------------------- \u001b[0m\u001b[32mSimple Sequence\u001b[0m\n",
      "\u001b[34m\n",
      "Window size : 5\u001b[0m\n",
      "\u001b[33m----------------\u001b[0m\n",
      "\u001b[32m  >\u001b[0m Model: Fixed           Param count: 146 \tTraining error: 0.3337\tTesting error: 0.5178\n",
      "\u001b[32m  >\u001b[0m Model: Dynamic         Param count: 146 \tTraining error: 0.2890\tTesting error: 0.3844\n",
      "\u001b[32m  >\u001b[0m Model: Bidirectional   Param count: 341 \tTraining error: 0.3729\tTesting error: 0.6186\n",
      "\u001b[32m  >\u001b[0m Model: Stacked         Param count: 806 \tTraining error: 0.2152\tTesting error: 0.4595\n",
      "\u001b[34m\n",
      "Window size : 7\u001b[0m\n",
      "\u001b[33m----------------\u001b[0m\n",
      "\u001b[32m  >\u001b[0m Model: Fixed           Param count: 146 \tTraining error: 0.4145\tTesting error: 0.6620\n",
      "\u001b[32m  >\u001b[0m Model: Dynamic         Param count: 260 \tTraining error: 0.3597\tTesting error: 0.5273\n",
      "\u001b[32m  >\u001b[0m Model: Bidirectional   Param count: 617 \tTraining error: 0.5583\tTesting error: 1.1013\n",
      "\u001b[32m  >\u001b[0m Model: Stacked         Param count: 806 \tTraining error: 0.3379\tTesting error: 0.5751\n",
      "\u001b[32m\n",
      "--------------------------------------------------------------- \u001b[0m\u001b[32mMulti Sequence\u001b[0m\n",
      "\u001b[34m\n",
      "Window size : 5\u001b[0m\n",
      "\u001b[33m----------------\u001b[0m\n",
      "\u001b[32m  >\u001b[0m Model: Fixed           Param count: 186 \tTraining error: 0.1773\tTesting error: 0.3714\n",
      "\u001b[32m  >\u001b[0m Model: Dynamic         Param count: 186 \tTraining error: 0.3814\tTesting error: 0.4289\n",
      "\u001b[32m  >\u001b[0m Model: Bidirectional   Param count: 421 \tTraining error: 0.1692\tTesting error: 0.4500\n",
      "\u001b[32m  >\u001b[0m Model: Stacked         Param count: 886 \tTraining error: 0.4058\tTesting error: 0.7797\n",
      "\u001b[34m\n",
      "Window size : 7\u001b[0m\n",
      "\u001b[33m----------------\u001b[0m\n",
      "\u001b[32m  >\u001b[0m Model: Fixed           Param count: 186 \tTraining error: 0.4399\tTesting error: 0.5567\n",
      "\u001b[32m  >\u001b[0m Model: Dynamic         Param count: 316 \tTraining error: 0.2816\tTesting error: 0.7042\n",
      "\u001b[32m  >\u001b[0m Model: Bidirectional   Param count: 729 \tTraining error: 0.0920\tTesting error: 0.1893\n",
      "\u001b[32m  >\u001b[0m Model: Stacked         Param count: 886 \tTraining error: 0.2140\tTesting error: 0.4245\n",
      "\u001b[1m\u001b[31m\n",
      "================================ NSE : HINDUNILVR ================================\u001b[0m\n",
      "\u001b[32m\n",
      "--------------------------------------------------------------- \u001b[0m\u001b[32mSimple Sequence\u001b[0m\n",
      "\u001b[34m\n",
      "Window size : 5\u001b[0m\n",
      "\u001b[33m----------------\u001b[0m\n",
      "\u001b[32m  >\u001b[0m Model: Fixed           Param count: 146 \tTraining error: 0.3511\tTesting error: 0.9818\n",
      "\u001b[32m  >\u001b[0m Model: Dynamic         Param count: 146 \tTraining error: 0.0902\tTesting error: 0.2597\n",
      "\u001b[32m  >\u001b[0m Model: Bidirectional   Param count: 341 \tTraining error: 0.0969\tTesting error: 0.2335\n",
      "\u001b[32m  >\u001b[0m Model: Stacked         Param count: 806 \tTraining error: 0.2168\tTesting error: 0.5884\n",
      "\u001b[34m\n",
      "Window size : 7\u001b[0m\n",
      "\u001b[33m----------------\u001b[0m\n",
      "\u001b[32m  >\u001b[0m Model: Fixed           Param count: 146 \tTraining error: 0.2443\tTesting error: 0.6356\n",
      "\u001b[32m  >\u001b[0m Model: Dynamic         Param count: 260 \tTraining error: 0.1301\tTesting error: 0.3009\n",
      "\u001b[32m  >\u001b[0m Model: Bidirectional   Param count: 617 \tTraining error: 0.0929\tTesting error: 0.2156\n",
      "\u001b[32m  >\u001b[0m Model: Stacked         Param count: 806 \tTraining error: 0.1461\tTesting error: 0.3513\n",
      "\u001b[32m\n",
      "--------------------------------------------------------------- \u001b[0m\u001b[32mMulti Sequence\u001b[0m\n",
      "\u001b[34m\n",
      "Window size : 5\u001b[0m\n",
      "\u001b[33m----------------\u001b[0m\n",
      "\u001b[32m  >\u001b[0m Model: Fixed           Param count: 186 \tTraining error: 0.1166\tTesting error: 0.4502\n",
      "\u001b[32m  >\u001b[0m Model: Dynamic         Param count: 186 \tTraining error: 0.0987\tTesting error: 0.2464\n",
      "\u001b[32m  >\u001b[0m Model: Bidirectional   Param count: 421 \tTraining error: 0.1082\tTesting error: 0.2365\n",
      "\u001b[32m  >\u001b[0m Model: Stacked         Param count: 886 \tTraining error: 0.1875\tTesting error: 0.5083\n",
      "\u001b[34m\n",
      "Window size : 7\u001b[0m\n",
      "\u001b[33m----------------\u001b[0m\n",
      "\u001b[32m  >\u001b[0m Model: Fixed           Param count: 186 \tTraining error: 0.2236\tTesting error: 0.6884\n",
      "\u001b[32m  >\u001b[0m Model: Dynamic         Param count: 316 \tTraining error: 0.0779\tTesting error: 0.2313\n",
      "\u001b[32m  >\u001b[0m Model: Bidirectional   Param count: 729 \tTraining error: 0.1242\tTesting error: 0.4061\n",
      "\u001b[32m  >\u001b[0m Model: Stacked         Param count: 886 \tTraining error: 0.1434\tTesting error: 0.2457\n",
      "Required data/directory is already present in current working directory.\n",
      "\u001b[35m\n",
      "Succesfully Evaluated different models and saved all logs and best model performance metrics in 'Model Performance' directory.\u001b[0m\n"
     ]
    }
   ],
   "source": [
    "res, piss = test_models(preprocessed_data, 1, my_models, window_sizes=[5,7])"
   ]
  },
  {
   "cell_type": "code",
   "execution_count": 26,
   "metadata": {},
   "outputs": [
    {
     "ename": "UnboundLocalError",
     "evalue": "local variable 'ticker' referenced before assignment",
     "output_type": "error",
     "traceback": [
      "\u001b[0;31m---------------------------------------------------------------------------\u001b[0m",
      "\u001b[0;31mUnboundLocalError\u001b[0m                         Traceback (most recent call last)",
      "Cell \u001b[0;32mIn[26], line 1\u001b[0m\n\u001b[0;32m----> 1\u001b[0m \u001b[43mbud\u001b[49m\u001b[43m(\u001b[49m\u001b[43mpreprocessed_data\u001b[49m\u001b[43m,\u001b[49m\u001b[43m \u001b[49m\u001b[38;5;241;43m2\u001b[39;49m\u001b[43m,\u001b[49m\u001b[43m \u001b[49m\u001b[43mmy_models\u001b[49m\u001b[43m,\u001b[49m\u001b[43m \u001b[49m\u001b[43mpiss\u001b[49m\u001b[43m)\u001b[49m\n",
      "File \u001b[0;32m~/sagemaker-studiolab-notebooks/Forecasting-using-Bidirectional-LSTM/Model_Selector.py:108\u001b[0m, in \u001b[0;36msave_models\u001b[0;34m(data_dict, epochs, models, best_params)\u001b[0m\n\u001b[1;32m    105\u001b[0m \u001b[38;5;28;01melse\u001b[39;00m:\n\u001b[1;32m    106\u001b[0m     os\u001b[38;5;241m.\u001b[39mmkdir(\u001b[38;5;124m'\u001b[39m\u001b[38;5;124mModels\u001b[39m\u001b[38;5;124m'\u001b[39m)\n\u001b[0;32m--> 108\u001b[0m best_model \u001b[38;5;241m=\u001b[39m best_params[\u001b[43mticker\u001b[49m][\u001b[38;5;124m'\u001b[39m\u001b[38;5;124mBest Model\u001b[39m\u001b[38;5;124m'\u001b[39m]\n\u001b[1;32m    109\u001b[0m win_size \u001b[38;5;241m=\u001b[39m best_params[ticker][\u001b[38;5;124m'\u001b[39m\u001b[38;5;124mWindow Size\u001b[39m\u001b[38;5;124m'\u001b[39m]\n\u001b[1;32m    110\u001b[0m seq_type \u001b[38;5;241m=\u001b[39m best_params[ticker][\u001b[38;5;124m'\u001b[39m\u001b[38;5;124mSequence\u001b[39m\u001b[38;5;124m'\u001b[39m]\n",
      "\u001b[0;31mUnboundLocalError\u001b[0m: local variable 'ticker' referenced before assignment"
     ]
    }
   ],
   "source": [
    "bud(preprocessed_data, 2, my_models, piss)"
   ]
  },
  {
   "cell_type": "code",
   "execution_count": 22,
   "metadata": {},
   "outputs": [
    {
     "data": {
      "text/plain": [
       "'Bidirectional'"
      ]
     },
     "execution_count": 22,
     "metadata": {},
     "output_type": "execute_result"
    }
   ],
   "source": [
    "piss['SUNPHARMA']['Best Model']"
   ]
  }
 ],
 "metadata": {
  "accelerator": "GPU",
  "colab": {
   "provenance": []
  },
  "gpuClass": "standard",
  "kernelspec": {
   "display_name": "ml_dl_310:Python",
   "language": "python",
   "name": "conda-env-ml_dl_310-py"
  },
  "language_info": {
   "codemirror_mode": {
    "name": "ipython",
    "version": 3
   },
   "file_extension": ".py",
   "mimetype": "text/x-python",
   "name": "python",
   "nbconvert_exporter": "python",
   "pygments_lexer": "ipython3",
   "version": "3.10.9"
  }
 },
 "nbformat": 4,
 "nbformat_minor": 4
}
